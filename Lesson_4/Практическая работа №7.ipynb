{
 "cells": [
  {
   "cell_type": "raw",
   "source": [
    "1. Дерево решений для классификации"
   ],
   "metadata": {
    "collapsed": false
   }
  },
  {
   "cell_type": "code",
   "execution_count": 3,
   "outputs": [],
   "source": [
    "from sklearn.tree import DecisionTreeClassifier, plot_tree\n",
    "import matplotlib.pyplot as plt"
   ],
   "metadata": {
    "collapsed": false,
    "ExecuteTime": {
     "start_time": "2023-12-02T11:10:19.726835Z",
     "end_time": "2023-12-02T11:10:19.749834Z"
    }
   }
  },
  {
   "cell_type": "raw",
   "source": [
    "Получение данных"
   ],
   "metadata": {
    "collapsed": false
   }
  },
  {
   "cell_type": "code",
   "execution_count": 4,
   "outputs": [
    {
     "data": {
      "text/plain": "   id    age  gender  height  weight  ap_hi  ap_lo  cholesterol  gluc  smoke  \\\n0   0  18393       2     168    62.0    110     80            1     1      0   \n1   1  20228       1     156    85.0    140     90            3     1      0   \n2   2  18857       1     165    64.0    130     70            3     1      0   \n3   3  17623       2     169    82.0    150    100            1     1      0   \n4   4  17474       1     156    56.0    100     60            1     1      0   \n\n   alco  active  cardio  \n0     0       1       0  \n1     0       1       1  \n2     0       0       1  \n3     0       1       1  \n4     0       0       0  ",
      "text/html": "<div>\n<style scoped>\n    .dataframe tbody tr th:only-of-type {\n        vertical-align: middle;\n    }\n\n    .dataframe tbody tr th {\n        vertical-align: top;\n    }\n\n    .dataframe thead th {\n        text-align: right;\n    }\n</style>\n<table border=\"1\" class=\"dataframe\">\n  <thead>\n    <tr style=\"text-align: right;\">\n      <th></th>\n      <th>id</th>\n      <th>age</th>\n      <th>gender</th>\n      <th>height</th>\n      <th>weight</th>\n      <th>ap_hi</th>\n      <th>ap_lo</th>\n      <th>cholesterol</th>\n      <th>gluc</th>\n      <th>smoke</th>\n      <th>alco</th>\n      <th>active</th>\n      <th>cardio</th>\n    </tr>\n  </thead>\n  <tbody>\n    <tr>\n      <th>0</th>\n      <td>0</td>\n      <td>18393</td>\n      <td>2</td>\n      <td>168</td>\n      <td>62.0</td>\n      <td>110</td>\n      <td>80</td>\n      <td>1</td>\n      <td>1</td>\n      <td>0</td>\n      <td>0</td>\n      <td>1</td>\n      <td>0</td>\n    </tr>\n    <tr>\n      <th>1</th>\n      <td>1</td>\n      <td>20228</td>\n      <td>1</td>\n      <td>156</td>\n      <td>85.0</td>\n      <td>140</td>\n      <td>90</td>\n      <td>3</td>\n      <td>1</td>\n      <td>0</td>\n      <td>0</td>\n      <td>1</td>\n      <td>1</td>\n    </tr>\n    <tr>\n      <th>2</th>\n      <td>2</td>\n      <td>18857</td>\n      <td>1</td>\n      <td>165</td>\n      <td>64.0</td>\n      <td>130</td>\n      <td>70</td>\n      <td>3</td>\n      <td>1</td>\n      <td>0</td>\n      <td>0</td>\n      <td>0</td>\n      <td>1</td>\n    </tr>\n    <tr>\n      <th>3</th>\n      <td>3</td>\n      <td>17623</td>\n      <td>2</td>\n      <td>169</td>\n      <td>82.0</td>\n      <td>150</td>\n      <td>100</td>\n      <td>1</td>\n      <td>1</td>\n      <td>0</td>\n      <td>0</td>\n      <td>1</td>\n      <td>1</td>\n    </tr>\n    <tr>\n      <th>4</th>\n      <td>4</td>\n      <td>17474</td>\n      <td>1</td>\n      <td>156</td>\n      <td>56.0</td>\n      <td>100</td>\n      <td>60</td>\n      <td>1</td>\n      <td>1</td>\n      <td>0</td>\n      <td>0</td>\n      <td>0</td>\n      <td>0</td>\n    </tr>\n  </tbody>\n</table>\n</div>"
     },
     "execution_count": 4,
     "metadata": {},
     "output_type": "execute_result"
    }
   ],
   "source": [
    "import pandas as pd\n",
    "df = pd.read_csv('data/cardio.csv',  sep= ';')\n",
    "df.head()"
   ],
   "metadata": {
    "collapsed": false,
    "ExecuteTime": {
     "start_time": "2023-12-02T11:10:20.923965Z",
     "end_time": "2023-12-02T11:10:20.970964Z"
    }
   }
  },
  {
   "cell_type": "code",
   "execution_count": 5,
   "outputs": [],
   "source": [
    "full_features = ['age', 'gender', 'height', 'weight', 'ap_hi', 'ap_lo',\n",
    "                 'cholesterol', 'gluc', 'smoke', 'alco', 'active']\n",
    "target = 'cardio'"
   ],
   "metadata": {
    "collapsed": false,
    "ExecuteTime": {
     "start_time": "2023-12-02T11:10:52.020196Z",
     "end_time": "2023-12-02T11:10:52.048196Z"
    }
   }
  },
  {
   "cell_type": "code",
   "execution_count": 6,
   "outputs": [],
   "source": [
    "df['age'] = round(df['age'] / 365)"
   ],
   "metadata": {
    "collapsed": false,
    "ExecuteTime": {
     "start_time": "2023-12-02T11:10:53.216549Z",
     "end_time": "2023-12-02T11:10:53.229550Z"
    }
   }
  },
  {
   "cell_type": "raw",
   "source": [
    "1. Вводная\n",
    "1.1 Сколько вопросов будет задано на первом этапе\n",
    "Посчитайте, сколько вопросов задаст дерево решений в самый первый раз, если использовать все признаки из списка full_features."
   ],
   "metadata": {
    "collapsed": false
   }
  },
  {
   "cell_type": "code",
   "execution_count": 7,
   "outputs": [
    {
     "data": {
      "text/plain": "DecisionTreeClassifier(random_state=1)",
      "text/html": "<style>#sk-container-id-1 {color: black;}#sk-container-id-1 pre{padding: 0;}#sk-container-id-1 div.sk-toggleable {background-color: white;}#sk-container-id-1 label.sk-toggleable__label {cursor: pointer;display: block;width: 100%;margin-bottom: 0;padding: 0.3em;box-sizing: border-box;text-align: center;}#sk-container-id-1 label.sk-toggleable__label-arrow:before {content: \"▸\";float: left;margin-right: 0.25em;color: #696969;}#sk-container-id-1 label.sk-toggleable__label-arrow:hover:before {color: black;}#sk-container-id-1 div.sk-estimator:hover label.sk-toggleable__label-arrow:before {color: black;}#sk-container-id-1 div.sk-toggleable__content {max-height: 0;max-width: 0;overflow: hidden;text-align: left;background-color: #f0f8ff;}#sk-container-id-1 div.sk-toggleable__content pre {margin: 0.2em;color: black;border-radius: 0.25em;background-color: #f0f8ff;}#sk-container-id-1 input.sk-toggleable__control:checked~div.sk-toggleable__content {max-height: 200px;max-width: 100%;overflow: auto;}#sk-container-id-1 input.sk-toggleable__control:checked~label.sk-toggleable__label-arrow:before {content: \"▾\";}#sk-container-id-1 div.sk-estimator input.sk-toggleable__control:checked~label.sk-toggleable__label {background-color: #d4ebff;}#sk-container-id-1 div.sk-label input.sk-toggleable__control:checked~label.sk-toggleable__label {background-color: #d4ebff;}#sk-container-id-1 input.sk-hidden--visually {border: 0;clip: rect(1px 1px 1px 1px);clip: rect(1px, 1px, 1px, 1px);height: 1px;margin: -1px;overflow: hidden;padding: 0;position: absolute;width: 1px;}#sk-container-id-1 div.sk-estimator {font-family: monospace;background-color: #f0f8ff;border: 1px dotted black;border-radius: 0.25em;box-sizing: border-box;margin-bottom: 0.5em;}#sk-container-id-1 div.sk-estimator:hover {background-color: #d4ebff;}#sk-container-id-1 div.sk-parallel-item::after {content: \"\";width: 100%;border-bottom: 1px solid gray;flex-grow: 1;}#sk-container-id-1 div.sk-label:hover label.sk-toggleable__label {background-color: #d4ebff;}#sk-container-id-1 div.sk-serial::before {content: \"\";position: absolute;border-left: 1px solid gray;box-sizing: border-box;top: 0;bottom: 0;left: 50%;z-index: 0;}#sk-container-id-1 div.sk-serial {display: flex;flex-direction: column;align-items: center;background-color: white;padding-right: 0.2em;padding-left: 0.2em;position: relative;}#sk-container-id-1 div.sk-item {position: relative;z-index: 1;}#sk-container-id-1 div.sk-parallel {display: flex;align-items: stretch;justify-content: center;background-color: white;position: relative;}#sk-container-id-1 div.sk-item::before, #sk-container-id-1 div.sk-parallel-item::before {content: \"\";position: absolute;border-left: 1px solid gray;box-sizing: border-box;top: 0;bottom: 0;left: 50%;z-index: -1;}#sk-container-id-1 div.sk-parallel-item {display: flex;flex-direction: column;z-index: 1;position: relative;background-color: white;}#sk-container-id-1 div.sk-parallel-item:first-child::after {align-self: flex-end;width: 50%;}#sk-container-id-1 div.sk-parallel-item:last-child::after {align-self: flex-start;width: 50%;}#sk-container-id-1 div.sk-parallel-item:only-child::after {width: 0;}#sk-container-id-1 div.sk-dashed-wrapped {border: 1px dashed gray;margin: 0 0.4em 0.5em 0.4em;box-sizing: border-box;padding-bottom: 0.4em;background-color: white;}#sk-container-id-1 div.sk-label label {font-family: monospace;font-weight: bold;display: inline-block;line-height: 1.2em;}#sk-container-id-1 div.sk-label-container {text-align: center;}#sk-container-id-1 div.sk-container {/* jupyter's `normalize.less` sets `[hidden] { display: none; }` but bootstrap.min.css set `[hidden] { display: none !important; }` so we also need the `!important` here to be able to override the default hidden behavior on the sphinx rendered scikit-learn.org. See: https://github.com/scikit-learn/scikit-learn/issues/21755 */display: inline-block !important;position: relative;}#sk-container-id-1 div.sk-text-repr-fallback {display: none;}</style><div id=\"sk-container-id-1\" class=\"sk-top-container\"><div class=\"sk-text-repr-fallback\"><pre>DecisionTreeClassifier(random_state=1)</pre><b>In a Jupyter environment, please rerun this cell to show the HTML representation or trust the notebook. <br />On GitHub, the HTML representation is unable to render, please try loading this page with nbviewer.org.</b></div><div class=\"sk-container\" hidden><div class=\"sk-item\"><div class=\"sk-estimator sk-toggleable\"><input class=\"sk-toggleable__control sk-hidden--visually\" id=\"sk-estimator-id-1\" type=\"checkbox\" checked><label for=\"sk-estimator-id-1\" class=\"sk-toggleable__label sk-toggleable__label-arrow\">DecisionTreeClassifier</label><div class=\"sk-toggleable__content\"><pre>DecisionTreeClassifier(random_state=1)</pre></div></div></div></div></div>"
     },
     "execution_count": 7,
     "metadata": {},
     "output_type": "execute_result"
    }
   ],
   "source": [
    "X = df[full_features]  # Признаки\n",
    "Y = df[target]  # Целевая переменная\n",
    "tree = DecisionTreeClassifier(random_state=1)\n",
    "tree.fit(X, Y)"
   ],
   "metadata": {
    "collapsed": false,
    "ExecuteTime": {
     "start_time": "2023-12-02T11:11:37.860975Z",
     "end_time": "2023-12-02T11:11:38.101146Z"
    }
   }
  },
  {
   "cell_type": "code",
   "execution_count": 8,
   "outputs": [
    {
     "name": "stdout",
     "output_type": "stream",
     "text": [
      "Будет задано 46409 вопросов.\n",
      "Количество признаков в корне дерева: 11\n"
     ]
    }
   ],
   "source": [
    "first_stage_questions = tree.tree_.node_count\n",
    "print(f\"Будет задано {first_stage_questions} вопросов.\")\n",
    "\n",
    "first_node_features = tree.tree_.n_features\n",
    "print(f\"Количество признаков в корне дерева: {first_node_features}\")"
   ],
   "metadata": {
    "collapsed": false,
    "ExecuteTime": {
     "start_time": "2023-12-02T11:16:02.095642Z",
     "end_time": "2023-12-02T11:16:02.111642Z"
    }
   }
  },
  {
   "cell_type": "raw",
   "source": [
    "1.2 Упростите задачу\n",
    "Вопросов получилось достаточно, не будет моделировать столько вопросов, а попробуем уменьшить их количество.\n",
    "\n",
    "Возьмите только два признака: weight и gluc. А так же возьмите только 10 первых объектов."
   ],
   "metadata": {
    "collapsed": false
   }
  },
  {
   "cell_type": "code",
   "execution_count": 9,
   "outputs": [
    {
     "data": {
      "text/plain": "DecisionTreeClassifier(random_state=42)",
      "text/html": "<style>#sk-container-id-2 {color: black;}#sk-container-id-2 pre{padding: 0;}#sk-container-id-2 div.sk-toggleable {background-color: white;}#sk-container-id-2 label.sk-toggleable__label {cursor: pointer;display: block;width: 100%;margin-bottom: 0;padding: 0.3em;box-sizing: border-box;text-align: center;}#sk-container-id-2 label.sk-toggleable__label-arrow:before {content: \"▸\";float: left;margin-right: 0.25em;color: #696969;}#sk-container-id-2 label.sk-toggleable__label-arrow:hover:before {color: black;}#sk-container-id-2 div.sk-estimator:hover label.sk-toggleable__label-arrow:before {color: black;}#sk-container-id-2 div.sk-toggleable__content {max-height: 0;max-width: 0;overflow: hidden;text-align: left;background-color: #f0f8ff;}#sk-container-id-2 div.sk-toggleable__content pre {margin: 0.2em;color: black;border-radius: 0.25em;background-color: #f0f8ff;}#sk-container-id-2 input.sk-toggleable__control:checked~div.sk-toggleable__content {max-height: 200px;max-width: 100%;overflow: auto;}#sk-container-id-2 input.sk-toggleable__control:checked~label.sk-toggleable__label-arrow:before {content: \"▾\";}#sk-container-id-2 div.sk-estimator input.sk-toggleable__control:checked~label.sk-toggleable__label {background-color: #d4ebff;}#sk-container-id-2 div.sk-label input.sk-toggleable__control:checked~label.sk-toggleable__label {background-color: #d4ebff;}#sk-container-id-2 input.sk-hidden--visually {border: 0;clip: rect(1px 1px 1px 1px);clip: rect(1px, 1px, 1px, 1px);height: 1px;margin: -1px;overflow: hidden;padding: 0;position: absolute;width: 1px;}#sk-container-id-2 div.sk-estimator {font-family: monospace;background-color: #f0f8ff;border: 1px dotted black;border-radius: 0.25em;box-sizing: border-box;margin-bottom: 0.5em;}#sk-container-id-2 div.sk-estimator:hover {background-color: #d4ebff;}#sk-container-id-2 div.sk-parallel-item::after {content: \"\";width: 100%;border-bottom: 1px solid gray;flex-grow: 1;}#sk-container-id-2 div.sk-label:hover label.sk-toggleable__label {background-color: #d4ebff;}#sk-container-id-2 div.sk-serial::before {content: \"\";position: absolute;border-left: 1px solid gray;box-sizing: border-box;top: 0;bottom: 0;left: 50%;z-index: 0;}#sk-container-id-2 div.sk-serial {display: flex;flex-direction: column;align-items: center;background-color: white;padding-right: 0.2em;padding-left: 0.2em;position: relative;}#sk-container-id-2 div.sk-item {position: relative;z-index: 1;}#sk-container-id-2 div.sk-parallel {display: flex;align-items: stretch;justify-content: center;background-color: white;position: relative;}#sk-container-id-2 div.sk-item::before, #sk-container-id-2 div.sk-parallel-item::before {content: \"\";position: absolute;border-left: 1px solid gray;box-sizing: border-box;top: 0;bottom: 0;left: 50%;z-index: -1;}#sk-container-id-2 div.sk-parallel-item {display: flex;flex-direction: column;z-index: 1;position: relative;background-color: white;}#sk-container-id-2 div.sk-parallel-item:first-child::after {align-self: flex-end;width: 50%;}#sk-container-id-2 div.sk-parallel-item:last-child::after {align-self: flex-start;width: 50%;}#sk-container-id-2 div.sk-parallel-item:only-child::after {width: 0;}#sk-container-id-2 div.sk-dashed-wrapped {border: 1px dashed gray;margin: 0 0.4em 0.5em 0.4em;box-sizing: border-box;padding-bottom: 0.4em;background-color: white;}#sk-container-id-2 div.sk-label label {font-family: monospace;font-weight: bold;display: inline-block;line-height: 1.2em;}#sk-container-id-2 div.sk-label-container {text-align: center;}#sk-container-id-2 div.sk-container {/* jupyter's `normalize.less` sets `[hidden] { display: none; }` but bootstrap.min.css set `[hidden] { display: none !important; }` so we also need the `!important` here to be able to override the default hidden behavior on the sphinx rendered scikit-learn.org. See: https://github.com/scikit-learn/scikit-learn/issues/21755 */display: inline-block !important;position: relative;}#sk-container-id-2 div.sk-text-repr-fallback {display: none;}</style><div id=\"sk-container-id-2\" class=\"sk-top-container\"><div class=\"sk-text-repr-fallback\"><pre>DecisionTreeClassifier(random_state=42)</pre><b>In a Jupyter environment, please rerun this cell to show the HTML representation or trust the notebook. <br />On GitHub, the HTML representation is unable to render, please try loading this page with nbviewer.org.</b></div><div class=\"sk-container\" hidden><div class=\"sk-item\"><div class=\"sk-estimator sk-toggleable\"><input class=\"sk-toggleable__control sk-hidden--visually\" id=\"sk-estimator-id-2\" type=\"checkbox\" checked><label for=\"sk-estimator-id-2\" class=\"sk-toggleable__label sk-toggleable__label-arrow\">DecisionTreeClassifier</label><div class=\"sk-toggleable__content\"><pre>DecisionTreeClassifier(random_state=42)</pre></div></div></div></div></div>"
     },
     "execution_count": 9,
     "metadata": {},
     "output_type": "execute_result"
    }
   ],
   "source": [
    "selected_features = [\"weight\", \"gluc\"]\n",
    "data_subset = df[selected_features].head(10)\n",
    "target_subset = df[target].head(10)\n",
    "\n",
    "model_subset = DecisionTreeClassifier(random_state=42)\n",
    "model_subset.fit(data_subset, target_subset)"
   ],
   "metadata": {
    "collapsed": false,
    "ExecuteTime": {
     "start_time": "2023-12-02T11:16:37.766034Z",
     "end_time": "2023-12-02T11:16:37.788033Z"
    }
   }
  },
  {
   "cell_type": "raw",
   "source": [
    "1.3 Посчитайте еще раз, сколько будет вопросов"
   ],
   "metadata": {
    "collapsed": false
   }
  },
  {
   "cell_type": "code",
   "execution_count": 11,
   "outputs": [
    {
     "name": "stdout",
     "output_type": "stream",
     "text": [
      "Будет задано 11 вопросов.\n"
     ]
    }
   ],
   "source": [
    "questions_2_features = model_subset.tree_.node_count\n",
    "print(f\"Будет задано {questions_2_features} вопросов.\")"
   ],
   "metadata": {
    "collapsed": false,
    "ExecuteTime": {
     "start_time": "2023-12-02T11:17:27.648646Z",
     "end_time": "2023-12-02T11:17:27.655646Z"
    }
   }
  },
  {
   "cell_type": "raw",
   "source": [
    "2. Устройство дерева решений\n",
    "2.1 Обучите дерево решений\n",
    "Обучите дерево решений из sklearn'a с атрибутом random_state=1."
   ],
   "metadata": {
    "collapsed": false
   }
  },
  {
   "cell_type": "code",
   "execution_count": 12,
   "outputs": [
    {
     "data": {
      "text/plain": "DecisionTreeClassifier(random_state=1)",
      "text/html": "<style>#sk-container-id-3 {color: black;}#sk-container-id-3 pre{padding: 0;}#sk-container-id-3 div.sk-toggleable {background-color: white;}#sk-container-id-3 label.sk-toggleable__label {cursor: pointer;display: block;width: 100%;margin-bottom: 0;padding: 0.3em;box-sizing: border-box;text-align: center;}#sk-container-id-3 label.sk-toggleable__label-arrow:before {content: \"▸\";float: left;margin-right: 0.25em;color: #696969;}#sk-container-id-3 label.sk-toggleable__label-arrow:hover:before {color: black;}#sk-container-id-3 div.sk-estimator:hover label.sk-toggleable__label-arrow:before {color: black;}#sk-container-id-3 div.sk-toggleable__content {max-height: 0;max-width: 0;overflow: hidden;text-align: left;background-color: #f0f8ff;}#sk-container-id-3 div.sk-toggleable__content pre {margin: 0.2em;color: black;border-radius: 0.25em;background-color: #f0f8ff;}#sk-container-id-3 input.sk-toggleable__control:checked~div.sk-toggleable__content {max-height: 200px;max-width: 100%;overflow: auto;}#sk-container-id-3 input.sk-toggleable__control:checked~label.sk-toggleable__label-arrow:before {content: \"▾\";}#sk-container-id-3 div.sk-estimator input.sk-toggleable__control:checked~label.sk-toggleable__label {background-color: #d4ebff;}#sk-container-id-3 div.sk-label input.sk-toggleable__control:checked~label.sk-toggleable__label {background-color: #d4ebff;}#sk-container-id-3 input.sk-hidden--visually {border: 0;clip: rect(1px 1px 1px 1px);clip: rect(1px, 1px, 1px, 1px);height: 1px;margin: -1px;overflow: hidden;padding: 0;position: absolute;width: 1px;}#sk-container-id-3 div.sk-estimator {font-family: monospace;background-color: #f0f8ff;border: 1px dotted black;border-radius: 0.25em;box-sizing: border-box;margin-bottom: 0.5em;}#sk-container-id-3 div.sk-estimator:hover {background-color: #d4ebff;}#sk-container-id-3 div.sk-parallel-item::after {content: \"\";width: 100%;border-bottom: 1px solid gray;flex-grow: 1;}#sk-container-id-3 div.sk-label:hover label.sk-toggleable__label {background-color: #d4ebff;}#sk-container-id-3 div.sk-serial::before {content: \"\";position: absolute;border-left: 1px solid gray;box-sizing: border-box;top: 0;bottom: 0;left: 50%;z-index: 0;}#sk-container-id-3 div.sk-serial {display: flex;flex-direction: column;align-items: center;background-color: white;padding-right: 0.2em;padding-left: 0.2em;position: relative;}#sk-container-id-3 div.sk-item {position: relative;z-index: 1;}#sk-container-id-3 div.sk-parallel {display: flex;align-items: stretch;justify-content: center;background-color: white;position: relative;}#sk-container-id-3 div.sk-item::before, #sk-container-id-3 div.sk-parallel-item::before {content: \"\";position: absolute;border-left: 1px solid gray;box-sizing: border-box;top: 0;bottom: 0;left: 50%;z-index: -1;}#sk-container-id-3 div.sk-parallel-item {display: flex;flex-direction: column;z-index: 1;position: relative;background-color: white;}#sk-container-id-3 div.sk-parallel-item:first-child::after {align-self: flex-end;width: 50%;}#sk-container-id-3 div.sk-parallel-item:last-child::after {align-self: flex-start;width: 50%;}#sk-container-id-3 div.sk-parallel-item:only-child::after {width: 0;}#sk-container-id-3 div.sk-dashed-wrapped {border: 1px dashed gray;margin: 0 0.4em 0.5em 0.4em;box-sizing: border-box;padding-bottom: 0.4em;background-color: white;}#sk-container-id-3 div.sk-label label {font-family: monospace;font-weight: bold;display: inline-block;line-height: 1.2em;}#sk-container-id-3 div.sk-label-container {text-align: center;}#sk-container-id-3 div.sk-container {/* jupyter's `normalize.less` sets `[hidden] { display: none; }` but bootstrap.min.css set `[hidden] { display: none !important; }` so we also need the `!important` here to be able to override the default hidden behavior on the sphinx rendered scikit-learn.org. See: https://github.com/scikit-learn/scikit-learn/issues/21755 */display: inline-block !important;position: relative;}#sk-container-id-3 div.sk-text-repr-fallback {display: none;}</style><div id=\"sk-container-id-3\" class=\"sk-top-container\"><div class=\"sk-text-repr-fallback\"><pre>DecisionTreeClassifier(random_state=1)</pre><b>In a Jupyter environment, please rerun this cell to show the HTML representation or trust the notebook. <br />On GitHub, the HTML representation is unable to render, please try loading this page with nbviewer.org.</b></div><div class=\"sk-container\" hidden><div class=\"sk-item\"><div class=\"sk-estimator sk-toggleable\"><input class=\"sk-toggleable__control sk-hidden--visually\" id=\"sk-estimator-id-3\" type=\"checkbox\" checked><label for=\"sk-estimator-id-3\" class=\"sk-toggleable__label sk-toggleable__label-arrow\">DecisionTreeClassifier</label><div class=\"sk-toggleable__content\"><pre>DecisionTreeClassifier(random_state=1)</pre></div></div></div></div></div>"
     },
     "execution_count": 12,
     "metadata": {},
     "output_type": "execute_result"
    }
   ],
   "source": [
    "selected_features = [\"weight\", \"gluc\"]\n",
    "data_subset = df[selected_features].head(10)\n",
    "target_subset = df[target].head(10)\n",
    "\n",
    "model_subset = DecisionTreeClassifier(random_state=1)\n",
    "model_subset.fit(data_subset, target_subset)"
   ],
   "metadata": {
    "collapsed": false,
    "ExecuteTime": {
     "start_time": "2023-12-02T11:18:03.605167Z",
     "end_time": "2023-12-02T11:18:03.617166Z"
    }
   }
  },
  {
   "cell_type": "raw",
   "source": [
    "2.2 Отрисуйте обученное дерево решений\n",
    "Нарисуйте дерево решений, которое у вас получилось после обучения. Сделайте отрисовку такой, чтобы можно было понять, какие вопросы задаются"
   ],
   "metadata": {
    "collapsed": false
   }
  },
  {
   "cell_type": "code",
   "execution_count": 15,
   "outputs": [
    {
     "data": {
      "text/plain": "[Text(0.5, 0.875, 'weight <= 76.5\\ngini = 0.48\\nsamples = 10\\nvalue = [6, 4]'),\n Text(0.3, 0.625, 'weight <= 65.5\\ngini = 0.278\\nsamples = 6\\nvalue = [5, 1]'),\n Text(0.2, 0.375, 'weight <= 63.0\\ngini = 0.444\\nsamples = 3\\nvalue = [2, 1]'),\n Text(0.1, 0.125, 'gini = 0.0\\nsamples = 2\\nvalue = [2, 0]'),\n Text(0.3, 0.125, 'gini = 0.0\\nsamples = 1\\nvalue = [0, 1]'),\n Text(0.4, 0.375, 'gini = 0.0\\nsamples = 3\\nvalue = [3, 0]'),\n Text(0.7, 0.625, 'weight <= 89.0\\ngini = 0.375\\nsamples = 4\\nvalue = [1, 3]'),\n Text(0.6, 0.375, 'gini = 0.0\\nsamples = 2\\nvalue = [0, 2]'),\n Text(0.8, 0.375, 'gluc <= 2.0\\ngini = 0.5\\nsamples = 2\\nvalue = [1, 1]'),\n Text(0.7, 0.125, 'gini = 0.0\\nsamples = 1\\nvalue = [1, 0]'),\n Text(0.9, 0.125, 'gini = 0.0\\nsamples = 1\\nvalue = [0, 1]')]"
     },
     "execution_count": 15,
     "metadata": {},
     "output_type": "execute_result"
    },
    {
     "data": {
      "text/plain": "<Figure size 1000x1000 with 1 Axes>",
      "image/png": "[encoded data removed]"
     },
     "metadata": {},
     "output_type": "display_data"
    }
   ],
   "source": [
    "from sklearn.tree import plot_tree\n",
    "\n",
    "plt.figure(figsize=(10, 10))\n",
    "plot_tree(model_subset, feature_names=selected_features, filled=True)"
   ],
   "metadata": {
    "collapsed": false,
    "ExecuteTime": {
     "start_time": "2023-12-02T11:19:24.883447Z",
     "end_time": "2023-12-02T11:19:25.102446Z"
    }
   }
  },
  {
   "cell_type": "raw",
   "source": [
    "2.3 Посчитайте, сколько вершин получилось"
   ],
   "metadata": {
    "collapsed": false
   }
  },
  {
   "cell_type": "code",
   "execution_count": 16,
   "outputs": [
    {
     "name": "stdout",
     "output_type": "stream",
     "text": [
      "Общее количество узлов в дереве решений: 11\n"
     ]
    }
   ],
   "source": [
    "total_nodes = model_subset.tree_.node_count\n",
    "print(f\"Общее количество узлов в дереве решений: {total_nodes}\")"
   ],
   "metadata": {
    "collapsed": false,
    "ExecuteTime": {
     "start_time": "2023-12-02T11:20:10.658116Z",
     "end_time": "2023-12-02T11:20:10.686116Z"
    }
   }
  },
  {
   "cell_type": "raw",
   "source": [
    "2.4 Посчитайте, сколько листов получилось"
   ],
   "metadata": {
    "collapsed": false
   }
  },
  {
   "cell_type": "code",
   "execution_count": 17,
   "outputs": [
    {
     "name": "stdout",
     "output_type": "stream",
     "text": [
      "Количество листов в обученном дереве решений: 6\n"
     ]
    }
   ],
   "source": [
    "num_leaves = model_subset.get_n_leaves()\n",
    "print(f\"Количество листов в обученном дереве решений: {num_leaves}\")"
   ],
   "metadata": {
    "collapsed": false,
    "ExecuteTime": {
     "start_time": "2023-12-02T11:20:33.388445Z",
     "end_time": "2023-12-02T11:20:33.402444Z"
    }
   }
  },
  {
   "cell_type": "raw",
   "source": [
    "2.5 Посмотрите, почему не получилось сделать разбиение ещё на два узла в крайнем левом узле.\n",
    "В узле, где\n",
    "\n",
    "gini=0.5\n",
    "samples=2\n",
    "value=[1, 1]"
   ],
   "metadata": {
    "collapsed": false
   }
  },
  {
   "cell_type": "code",
   "execution_count": 18,
   "outputs": [
    {
     "name": "stdout",
     "output_type": "stream",
     "text": [
      "Точность модели дерева решений на оставшихся данных: 0.53\n"
     ]
    }
   ],
   "source": [
    "from sklearn.metrics import accuracy_score\n",
    "\n",
    "X_remaining = df[selected_features].iloc[10:]\n",
    "y_remaining = df[target].iloc[10:]\n",
    "\n",
    "y_pred_remaining = model_subset.predict(X_remaining)\n",
    "accuracy_remaining = accuracy_score(y_remaining, y_pred_remaining)\n",
    "\n",
    "print(f\"Точность модели дерева решений на оставшихся данных: {accuracy_remaining:.2f}\")"
   ],
   "metadata": {
    "collapsed": false,
    "ExecuteTime": {
     "start_time": "2023-12-02T11:20:58.851755Z",
     "end_time": "2023-12-02T11:20:58.902754Z"
    }
   }
  },
  {
   "cell_type": "raw",
   "source": [
    "3. Вспомогательные функции\n",
    "Для того, что бы дальше сравнивать между собой объекты нужно реализовать две вспомогательные функции.\n",
    "\n",
    "3.1 Функция подсчета критерия Джини\n",
    "Функция должна принимать список целевых значений, считать критерий информативности и выдавать одно значение - критерий Джини."
   ],
   "metadata": {
    "collapsed": false
   }
  },
  {
   "cell_type": "code",
   "execution_count": 19,
   "outputs": [],
   "source": [
    "import numpy as np\n",
    "\n",
    "def gini(target_values):\n",
    "    total_samples = len(target_values)\n",
    "    if total_samples == 0:\n",
    "        return 0.0\n",
    "\n",
    "    unique_classes, class_counts = np.unique(target_values, return_counts=True)\n",
    "    class_probabilities = class_counts / total_samples\n",
    "\n",
    "    gini = 1.0 - np.sum(class_probabilities ** 2)\n",
    "\n",
    "    return gini"
   ],
   "metadata": {
    "collapsed": false,
    "ExecuteTime": {
     "start_time": "2023-12-02T11:21:38.347230Z",
     "end_time": "2023-12-02T11:21:38.356231Z"
    }
   }
  },
  {
   "cell_type": "raw",
   "source": [
    "3.2 Проверка функции gini\n",
    "Посчитайте критерий информативности в исходной выборке и вы должны получить точно такое же значение, как и было на визуализации дерева решений в его корне."
   ],
   "metadata": {
    "collapsed": false
   }
  },
  {
   "cell_type": "code",
   "execution_count": 21,
   "outputs": [
    {
     "name": "stdout",
     "output_type": "stream",
     "text": [
      "Критерий Джини в корне дерева решений: 0.50\n"
     ]
    }
   ],
   "source": [
    "gini(df[target])\n",
    "\n",
    "print(f\"Критерий Джини в корне дерева решений: {gini(df[target]):.2f}\")"
   ],
   "metadata": {
    "collapsed": false,
    "ExecuteTime": {
     "start_time": "2023-12-02T11:22:41.643300Z",
     "end_time": "2023-12-02T11:22:41.658300Z"
    }
   }
  },
  {
   "cell_type": "raw",
   "source": [
    "3.3 Функция подсчета прироста информации\n",
    "Функция должна принимать целевые значения левой подвыборки, правой подвыборки и исходной вершины, а выдавать должна одно значение - прирост информации, подсчитанный на критерии информативности Джини."
   ],
   "metadata": {
    "collapsed": false
   }
  },
  {
   "cell_type": "code",
   "execution_count": 22,
   "outputs": [],
   "source": [
    "def information_gain(left_target, right_target, original_target):\n",
    "    original_gini = gini(original_target)\n",
    "\n",
    "    left_weight = len(left_target) / (len(left_target) + len(right_target))\n",
    "    right_weight = len(right_target) / (len(left_target) + len(right_target))\n",
    "    weighted_gini = (left_weight * gini(left_target)) + (right_weight * gini(right_target))\n",
    "\n",
    "    gain = original_gini - weighted_gini\n",
    "\n",
    "    return gain"
   ],
   "metadata": {
    "collapsed": false,
    "ExecuteTime": {
     "start_time": "2023-12-02T11:23:35.096893Z",
     "end_time": "2023-12-02T11:23:35.124893Z"
    }
   }
  },
  {
   "cell_type": "raw",
   "source": [
    "4. Процесс построения дерева решений\n",
    "4.1 Получение первого вопроса\n",
    "4.1.1 Пройдитесь по всем возможным вопросам для исходного набора данных\n",
    "\n",
    "Можете сохранять полученные значения прироста информации в датафрейм в удобную для вас структуру данных."
   ],
   "metadata": {
    "collapsed": false
   }
  },
  {
   "cell_type": "code",
   "execution_count": 23,
   "outputs": [
    {
     "name": "stderr",
     "output_type": "stream",
     "text": [
      "C:\\Users\\prokh\\AppData\\Local\\Temp\\ipykernel_5004\\2535076023.py:21: FutureWarning: The behavior of DataFrame concatenation with empty or all-NA entries is deprecated. In a future version, this will no longer exclude empty or all-NA columns when determining the result dtypes. To retain the old behavior, exclude the relevant entries before the concat operation.\n",
      "  information_gains = pd.concat([information_gains, result_df], ignore_index=True)\n"
     ]
    },
    {
     "name": "stdout",
     "output_type": "stream",
     "text": [
      "    Feature  Split Value  Information Gain\n",
      "0       age         30.0          0.000029\n",
      "1       age         39.0          0.000926\n",
      "2       age         40.0          0.006787\n",
      "3       age         41.0          0.008039\n",
      "4       age         42.0          0.011750\n",
      "..      ...          ...               ...\n",
      "743   smoke          1.0          0.000000\n",
      "744    alco          0.0          0.000027\n",
      "745    alco          1.0          0.000000\n",
      "746  active          0.0          0.000636\n",
      "747  active          1.0          0.000000\n",
      "\n",
      "[748 rows x 3 columns]\n"
     ]
    }
   ],
   "source": [
    "import pandas as pd\n",
    "import numpy as np\n",
    "\n",
    "information_gains = pd.DataFrame(columns=['Feature', 'Split Value', 'Information Gain'])\n",
    "original_target = df[target].values\n",
    "\n",
    "for feature in full_features:\n",
    "    unique_values = np.unique(df[feature].values)\n",
    "\n",
    "    for value in unique_values:\n",
    "        left_indices = df[feature] <= value\n",
    "        right_indices = df[feature] > value\n",
    "\n",
    "        left_target = original_target[left_indices]\n",
    "        right_target = original_target[right_indices]\n",
    "\n",
    "        gain = information_gain(left_target, right_target, original_target)\n",
    "\n",
    "        result_df = pd.DataFrame({'Feature': [feature], 'Split Value': [value], 'Information Gain': [gain]})\n",
    "\n",
    "        information_gains = pd.concat([information_gains, result_df], ignore_index=True)\n",
    "\n",
    "print(information_gains)"
   ],
   "metadata": {
    "collapsed": false,
    "ExecuteTime": {
     "start_time": "2023-12-02T11:24:19.228153Z",
     "end_time": "2023-12-02T11:24:20.539241Z"
    }
   }
  },
  {
   "cell_type": "raw",
   "source": [
    "4.1.2 Найдите самый лучший вопрос, опираясь на прирост информации"
   ],
   "metadata": {
    "collapsed": false
   }
  },
  {
   "cell_type": "code",
   "execution_count": 25,
   "outputs": [
    {
     "name": "stdout",
     "output_type": "stream",
     "text": [
      "Самый лучший вопрос:\n",
      "Feature                ap_hi\n",
      "Split Value            129.0\n",
      "Information Gain    0.094549\n",
      "Name: 482, dtype: object\n"
     ]
    }
   ],
   "source": [
    "information_gains_sorted = information_gains.sort_values(by='Information Gain', ascending=False)\n",
    "best_question = information_gains_sorted.iloc[0]\n",
    "\n",
    "print(f\"Самый лучший вопрос:\\n{best_question}\")"
   ],
   "metadata": {
    "collapsed": false,
    "ExecuteTime": {
     "start_time": "2023-12-02T11:25:39.670300Z",
     "end_time": "2023-12-02T11:25:39.678301Z"
    }
   }
  },
  {
   "cell_type": "raw",
   "source": [
    "4.1.3. Сделайте разбиение по этому вопросу исходных данных на две подвыборки df_left и df_right"
   ],
   "metadata": {
    "collapsed": false
   }
  },
  {
   "cell_type": "code",
   "execution_count": 26,
   "outputs": [],
   "source": [
    "best_feature = best_question['Feature']\n",
    "split_value = best_question['Split Value']\n",
    "\n",
    "df_left = df[df[best_feature] <= split_value]\n",
    "df_right = df[df[best_feature] > split_value]"
   ],
   "metadata": {
    "collapsed": false,
    "ExecuteTime": {
     "start_time": "2023-12-02T11:26:03.647421Z",
     "end_time": "2023-12-02T11:26:03.663421Z"
    }
   }
  },
  {
   "cell_type": "raw",
   "source": [
    "4.1.4. Проверьте себя через визуализацию дерева решений"
   ],
   "metadata": {
    "collapsed": false
   }
  },
  {
   "cell_type": "code",
   "execution_count": 27,
   "outputs": [
    {
     "data": {
      "text/plain": "<Figure size 1000x1000 with 1 Axes>",
      "image/png": "[encoded data removed]"
     },
     "metadata": {},
     "output_type": "display_data"
    }
   ],
   "source": [
    "from sklearn.tree import plot_tree\n",
    "\n",
    "\n",
    "plt.figure(figsize=(10, 10))\n",
    "plot_tree(tree, feature_names=full_features, max_depth=1, filled=True)\n",
    "plt.show()"
   ],
   "metadata": {
    "collapsed": false,
    "ExecuteTime": {
     "start_time": "2023-12-02T11:26:36.753170Z",
     "end_time": "2023-12-02T11:26:36.857170Z"
    }
   }
  },
  {
   "cell_type": "raw",
   "source": [
    "4.2 Получение второго вопроса\n",
    "4.2.1. Глядя на df_left и df_right, посмотрите, где можно сделать ещё разбиение"
   ],
   "metadata": {
    "collapsed": false
   }
  },
  {
   "cell_type": "code",
   "execution_count": 28,
   "outputs": [
    {
     "name": "stderr",
     "output_type": "stream",
     "text": [
      "C:\\Users\\prokh\\AppData\\Local\\Temp\\ipykernel_5004\\3134456239.py:18: FutureWarning: The behavior of DataFrame concatenation with empty or all-NA entries is deprecated. In a future version, this will no longer exclude empty or all-NA columns when determining the result dtypes. To retain the old behavior, exclude the relevant entries before the concat operation.\n",
      "  information_gains_left = pd.concat([information_gains_left, result_df], ignore_index=True)\n"
     ]
    },
    {
     "name": "stdout",
     "output_type": "stream",
     "text": [
      "    Feature  Split Value  Information Gain\n",
      "0       age         30.0          0.000020\n",
      "1       age         39.0          0.000699\n",
      "2       age         40.0          0.005390\n",
      "3       age         41.0          0.006464\n",
      "4       age         42.0          0.009373\n",
      "..      ...          ...               ...\n",
      "497   smoke          1.0          0.000000\n",
      "498    alco          0.0          0.000462\n",
      "499    alco          1.0          0.000000\n",
      "500  active          0.0          0.001610\n",
      "501  active          1.0          0.000000\n",
      "\n",
      "[502 rows x 3 columns]\n"
     ]
    }
   ],
   "source": [
    "information_gains_left = pd.DataFrame(columns=['Feature', 'Split Value', 'Information Gain'])\n",
    "original_target = df_left[target].values\n",
    "\n",
    "for feature in full_features:\n",
    "    unique_values = np.unique(df_left[feature].values)\n",
    "\n",
    "    for value in unique_values:\n",
    "        left_indices = df_left[feature] <= value\n",
    "        right_indices = df_left[feature] > value\n",
    "\n",
    "        left_target = original_target[left_indices]\n",
    "        right_target = original_target[right_indices]\n",
    "\n",
    "        gain = information_gain(left_target, right_target, original_target)\n",
    "\n",
    "        result_df = pd.DataFrame({'Feature': [feature], 'Split Value': [value], 'Information Gain': [gain]})\n",
    "\n",
    "        information_gains_left = pd.concat([information_gains_left, result_df], ignore_index=True)\n",
    "\n",
    "print(information_gains_left)"
   ],
   "metadata": {
    "collapsed": false,
    "ExecuteTime": {
     "start_time": "2023-12-02T11:27:08.561829Z",
     "end_time": "2023-12-02T11:27:09.151951Z"
    }
   }
  },
  {
   "cell_type": "raw",
   "source": [
    "4.2.2. Пройдитесь по всем признакам в выбранной подвыборке"
   ],
   "metadata": {
    "collapsed": false
   }
  },
  {
   "cell_type": "code",
   "execution_count": 29,
   "outputs": [
    {
     "name": "stderr",
     "output_type": "stream",
     "text": [
      "C:\\Users\\prokh\\AppData\\Local\\Temp\\ipykernel_5004\\1790112867.py:20: FutureWarning: The behavior of DataFrame concatenation with empty or all-NA entries is deprecated. In a future version, this will no longer exclude empty or all-NA columns when determining the result dtypes. To retain the old behavior, exclude the relevant entries before the concat operation.\n",
      "  information_gains_right = pd.concat([information_gains_right, result_df], ignore_index=True)\n"
     ]
    },
    {
     "name": "stdout",
     "output_type": "stream",
     "text": [
      "    Feature  Split Value  Information Gain\n",
      "0       age         39.0          0.000157\n",
      "1       age         40.0          0.000288\n",
      "2       age         41.0          0.000328\n",
      "3       age         42.0          0.000338\n",
      "4       age         43.0          0.000235\n",
      "..      ...          ...               ...\n",
      "562   smoke          1.0          0.000000\n",
      "563    alco          0.0          0.000109\n",
      "564    alco          1.0          0.000000\n",
      "565  active          0.0          0.000026\n",
      "566  active          1.0          0.000000\n",
      "\n",
      "[567 rows x 3 columns]\n"
     ]
    }
   ],
   "source": [
    "information_gains_right = pd.DataFrame(columns=['Feature', 'Split Value', 'Information Gain'])\n",
    "\n",
    "original_target = df_right[target].values\n",
    "\n",
    "for feature in full_features:\n",
    "    unique_values = np.unique(df_right[feature].values)\n",
    "\n",
    "\n",
    "    for value in unique_values:\n",
    "        left_indices = df_right[feature] <= value\n",
    "        right_indices = df_right[feature] > value\n",
    "\n",
    "        left_target = original_target[left_indices]\n",
    "        right_target = original_target[right_indices]\n",
    "\n",
    "        gain = information_gain(left_target, right_target, original_target)\n",
    "\n",
    "        result_df = pd.DataFrame({'Feature': [feature], 'Split Value': [value], 'Information Gain': [gain]})\n",
    "\n",
    "        information_gains_right = pd.concat([information_gains_right, result_df], ignore_index=True)\n",
    "\n",
    "print(information_gains_right)"
   ],
   "metadata": {
    "collapsed": false,
    "ExecuteTime": {
     "start_time": "2023-12-02T11:28:53.871361Z",
     "end_time": "2023-12-02T11:28:54.372462Z"
    }
   }
  },
  {
   "cell_type": "raw",
   "source": [
    "4.2.3 Найдите самый лучший вопрос, опираясь на прирост информации"
   ],
   "metadata": {
    "collapsed": false
   }
  },
  {
   "cell_type": "code",
   "execution_count": 31,
   "outputs": [
    {
     "name": "stdout",
     "output_type": "stream",
     "text": [
      "Самый лучший вопрос (правый):\n",
      "Feature                ap_hi\n",
      "Split Value            138.0\n",
      "Information Gain    0.025114\n",
      "Name: 341, dtype: object\n"
     ]
    }
   ],
   "source": [
    "information_gains_sorted_right = information_gains_right.sort_values(by='Information Gain', ascending=False)\n",
    "\n",
    "best_question_right = information_gains_sorted_right.iloc[0]\n",
    "\n",
    "print(f\"Самый лучший вопрос (правый):\\n{best_question_right}\")"
   ],
   "metadata": {
    "collapsed": false,
    "ExecuteTime": {
     "start_time": "2023-12-02T11:29:31.714519Z",
     "end_time": "2023-12-02T11:29:31.722520Z"
    }
   }
  },
  {
   "cell_type": "raw",
   "source": [
    "4.2.4. Сделайте разбиение по этому вопросу исходных данных на две подвыборки df_left и df_right"
   ],
   "metadata": {
    "collapsed": false
   }
  },
  {
   "cell_type": "code",
   "execution_count": 32,
   "outputs": [
    {
     "name": "stdout",
     "output_type": "stream",
     "text": [
      "Самый лучший вопрос (левый):\n",
      "Feature                  age\n",
      "Split Value             54.0\n",
      "Information Gain    0.020176\n",
      "Name: 16, dtype: object\n"
     ]
    }
   ],
   "source": [
    "information_gains_sorted_left = information_gains_left.sort_values(by='Information Gain', ascending=False)\n",
    "\n",
    "best_question_left = information_gains_sorted_left.iloc[0]\n",
    "\n",
    "print(f\"Самый лучший вопрос (левый):\\n{best_question_left}\")"
   ],
   "metadata": {
    "collapsed": false,
    "ExecuteTime": {
     "start_time": "2023-12-02T11:30:04.655179Z",
     "end_time": "2023-12-02T11:30:04.683179Z"
    }
   }
  },
  {
   "cell_type": "raw",
   "source": [
    "4.2.5. Проверьте себя через визуализацию дерева решений"
   ],
   "metadata": {
    "collapsed": false
   }
  },
  {
   "cell_type": "code",
   "execution_count": 33,
   "outputs": [],
   "source": [
    "best_feature_left = best_question_left['Feature']\n",
    "split_value_left = best_question_left['Split Value']\n",
    "\n",
    "best_feature_right = best_question_right['Feature']\n",
    "split_value_right = best_question_right['Split Value']\n",
    "\n",
    "\n",
    "df_left = df[df[best_feature_left] <= split_value_left]\n",
    "df_right = df[df[best_feature_right] <= split_value_right]"
   ],
   "metadata": {
    "collapsed": false,
    "ExecuteTime": {
     "start_time": "2023-12-02T11:30:22.417371Z",
     "end_time": "2023-12-02T11:30:22.440372Z"
    }
   }
  },
  {
   "cell_type": "raw",
   "source": [
    "4.2.6. Если что-то не сошлось, посмотрите, в чем может быть проблема"
   ],
   "metadata": {
    "collapsed": false
   }
  },
  {
   "cell_type": "code",
   "execution_count": 34,
   "outputs": [
    {
     "data": {
      "text/plain": "<Figure size 1000x1000 with 1 Axes>",
      "image/png": "[encoded data removed]"
     },
     "metadata": {},
     "output_type": "display_data"
    }
   ],
   "source": [
    "plt.figure(figsize=(10, 10))\n",
    "plot_tree(tree, feature_names=full_features, max_depth=2, filled=True)\n",
    "plt.show()"
   ],
   "metadata": {
    "collapsed": false,
    "ExecuteTime": {
     "start_time": "2023-12-02T11:30:45.306846Z",
     "end_time": "2023-12-02T11:30:45.497846Z"
    }
   }
  },
  {
   "cell_type": "raw",
   "source": [
    "2. Дерево решений для регрессии"
   ],
   "metadata": {
    "collapsed": false
   }
  },
  {
   "cell_type": "code",
   "execution_count": 35,
   "outputs": [],
   "source": [
    "from sklearn.tree import DecisionTreeRegressor, plot_tree\n",
    "import pandas as pd\n",
    "import matplotlib.pyplot as plt"
   ],
   "metadata": {
    "collapsed": false,
    "ExecuteTime": {
     "start_time": "2023-12-02T11:31:18.650126Z",
     "end_time": "2023-12-02T11:31:18.679125Z"
    }
   }
  },
  {
   "cell_type": "raw",
   "source": [
    "1. Получение данных load_breat_cancer\n",
    "Будем работать с набором данных для задачи регрессии load_diabetes, который можно получить из стандартных датасетов в sklearn'e.\n",
    "\n",
    "После load_diabetes() возвращается словарь с данными (data), целевой переменной (target), названиями характеристик в данных (feature_names) и описанием данных (DESCR)."
   ],
   "metadata": {
    "collapsed": false
   }
  },
  {
   "cell_type": "code",
   "execution_count": 36,
   "outputs": [
    {
     "data": {
      "text/plain": "{'data': array([[ 0.03807591,  0.05068012,  0.06169621, ..., -0.00259226,\n          0.01990749, -0.01764613],\n        [-0.00188202, -0.04464164, -0.05147406, ..., -0.03949338,\n         -0.06833155, -0.09220405],\n        [ 0.08529891,  0.05068012,  0.04445121, ..., -0.00259226,\n          0.00286131, -0.02593034],\n        ...,\n        [ 0.04170844,  0.05068012, -0.01590626, ..., -0.01107952,\n         -0.04688253,  0.01549073],\n        [-0.04547248, -0.04464164,  0.03906215, ...,  0.02655962,\n          0.04452873, -0.02593034],\n        [-0.04547248, -0.04464164, -0.0730303 , ..., -0.03949338,\n         -0.00422151,  0.00306441]]),\n 'target': array([151.,  75., 141., 206., 135.,  97., 138.,  63., 110., 310., 101.,\n         69., 179., 185., 118., 171., 166., 144.,  97., 168.,  68.,  49.,\n         68., 245., 184., 202., 137.,  85., 131., 283., 129.,  59., 341.,\n         87.,  65., 102., 265., 276., 252.,  90., 100.,  55.,  61.,  92.,\n        259.,  53., 190., 142.,  75., 142., 155., 225.,  59., 104., 182.,\n        128.,  52.,  37., 170., 170.,  61., 144.,  52., 128.,  71., 163.,\n        150.,  97., 160., 178.,  48., 270., 202., 111.,  85.,  42., 170.,\n        200., 252., 113., 143.,  51.,  52., 210.,  65., 141.,  55., 134.,\n         42., 111.,  98., 164.,  48.,  96.,  90., 162., 150., 279.,  92.,\n         83., 128., 102., 302., 198.,  95.,  53., 134., 144., 232.,  81.,\n        104.,  59., 246., 297., 258., 229., 275., 281., 179., 200., 200.,\n        173., 180.,  84., 121., 161.,  99., 109., 115., 268., 274., 158.,\n        107.,  83., 103., 272.,  85., 280., 336., 281., 118., 317., 235.,\n         60., 174., 259., 178., 128.,  96., 126., 288.,  88., 292.,  71.,\n        197., 186.,  25.,  84.,  96., 195.,  53., 217., 172., 131., 214.,\n         59.,  70., 220., 268., 152.,  47.,  74., 295., 101., 151., 127.,\n        237., 225.,  81., 151., 107.,  64., 138., 185., 265., 101., 137.,\n        143., 141.,  79., 292., 178.,  91., 116.,  86., 122.,  72., 129.,\n        142.,  90., 158.,  39., 196., 222., 277.,  99., 196., 202., 155.,\n         77., 191.,  70.,  73.,  49.,  65., 263., 248., 296., 214., 185.,\n         78.,  93., 252., 150.,  77., 208.,  77., 108., 160.,  53., 220.,\n        154., 259.,  90., 246., 124.,  67.,  72., 257., 262., 275., 177.,\n         71.,  47., 187., 125.,  78.,  51., 258., 215., 303., 243.,  91.,\n        150., 310., 153., 346.,  63.,  89.,  50.,  39., 103., 308., 116.,\n        145.,  74.,  45., 115., 264.,  87., 202., 127., 182., 241.,  66.,\n         94., 283.,  64., 102., 200., 265.,  94., 230., 181., 156., 233.,\n         60., 219.,  80.,  68., 332., 248.,  84., 200.,  55.,  85.,  89.,\n         31., 129.,  83., 275.,  65., 198., 236., 253., 124.,  44., 172.,\n        114., 142., 109., 180., 144., 163., 147.,  97., 220., 190., 109.,\n        191., 122., 230., 242., 248., 249., 192., 131., 237.,  78., 135.,\n        244., 199., 270., 164.,  72.,  96., 306.,  91., 214.,  95., 216.,\n        263., 178., 113., 200., 139., 139.,  88., 148.,  88., 243.,  71.,\n         77., 109., 272.,  60.,  54., 221.,  90., 311., 281., 182., 321.,\n         58., 262., 206., 233., 242., 123., 167.,  63., 197.,  71., 168.,\n        140., 217., 121., 235., 245.,  40.,  52., 104., 132.,  88.,  69.,\n        219.,  72., 201., 110.,  51., 277.,  63., 118.,  69., 273., 258.,\n         43., 198., 242., 232., 175.,  93., 168., 275., 293., 281.,  72.,\n        140., 189., 181., 209., 136., 261., 113., 131., 174., 257.,  55.,\n         84.,  42., 146., 212., 233.,  91., 111., 152., 120.,  67., 310.,\n         94., 183.,  66., 173.,  72.,  49.,  64.,  48., 178., 104., 132.,\n        220.,  57.]),\n 'frame': None,\n 'DESCR': '.. _diabetes_dataset:\\n\\nDiabetes dataset\\n----------------\\n\\nTen baseline variables, age, sex, body mass index, average blood\\npressure, and six blood serum measurements were obtained for each of n =\\n442 diabetes patients, as well as the response of interest, a\\nquantitative measure of disease progression one year after baseline.\\n\\n**Data Set Characteristics:**\\n\\n  :Number of Instances: 442\\n\\n  :Number of Attributes: First 10 columns are numeric predictive values\\n\\n  :Target: Column 11 is a quantitative measure of disease progression one year after baseline\\n\\n  :Attribute Information:\\n      - age     age in years\\n      - sex\\n      - bmi     body mass index\\n      - bp      average blood pressure\\n      - s1      tc, total serum cholesterol\\n      - s2      ldl, low-density lipoproteins\\n      - s3      hdl, high-density lipoproteins\\n      - s4      tch, total cholesterol / HDL\\n      - s5      ltg, possibly log of serum triglycerides level\\n      - s6      glu, blood sugar level\\n\\nNote: Each of these 10 feature variables have been mean centered and scaled by the standard deviation times the square root of `n_samples` (i.e. the sum of squares of each column totals 1).\\n\\nSource URL:\\nhttps://www4.stat.ncsu.edu/~boos/var.select/diabetes.html\\n\\nFor more information see:\\nBradley Efron, Trevor Hastie, Iain Johnstone and Robert Tibshirani (2004) \"Least Angle Regression,\" Annals of Statistics (with discussion), 407-499.\\n(https://web.stanford.edu/~hastie/Papers/LARS/LeastAngle_2002.pdf)\\n',\n 'feature_names': ['age',\n  'sex',\n  'bmi',\n  'bp',\n  's1',\n  's2',\n  's3',\n  's4',\n  's5',\n  's6'],\n 'data_filename': 'diabetes_data_raw.csv.gz',\n 'target_filename': 'diabetes_target.csv.gz',\n 'data_module': 'sklearn.datasets.data'}"
     },
     "execution_count": 36,
     "metadata": {},
     "output_type": "execute_result"
    }
   ],
   "source": [
    "from sklearn.datasets import load_diabetes\n",
    "\n",
    "data = load_diabetes()\n",
    "data"
   ],
   "metadata": {
    "collapsed": false,
    "ExecuteTime": {
     "start_time": "2023-12-02T11:31:36.705105Z",
     "end_time": "2023-12-02T11:31:36.754105Z"
    }
   }
  },
  {
   "cell_type": "code",
   "execution_count": 37,
   "outputs": [],
   "source": [
    "X = data.data\n",
    "features = data.feature_names\n",
    "y = data.target"
   ],
   "metadata": {
    "collapsed": false,
    "ExecuteTime": {
     "start_time": "2023-12-02T11:31:59.778555Z",
     "end_time": "2023-12-02T11:31:59.792554Z"
    }
   }
  },
  {
   "cell_type": "code",
   "execution_count": 38,
   "outputs": [
    {
     "data": {
      "text/plain": "        age       sex       bmi        bp        s1        s2        s3  \\\n0  0.038076  0.050680  0.061696  0.021872 -0.044223 -0.034821 -0.043401   \n1 -0.001882 -0.044642 -0.051474 -0.026328 -0.008449 -0.019163  0.074412   \n2  0.085299  0.050680  0.044451 -0.005670 -0.045599 -0.034194 -0.032356   \n3 -0.089063 -0.044642 -0.011595 -0.036656  0.012191  0.024991 -0.036038   \n4  0.005383 -0.044642 -0.036385  0.021872  0.003935  0.015596  0.008142   \n\n         s4        s5        s6  target  \n0 -0.002592  0.019907 -0.017646   151.0  \n1 -0.039493 -0.068332 -0.092204    75.0  \n2 -0.002592  0.002861 -0.025930   141.0  \n3  0.034309  0.022688 -0.009362   206.0  \n4 -0.002592 -0.031988 -0.046641   135.0  ",
      "text/html": "<div>\n<style scoped>\n    .dataframe tbody tr th:only-of-type {\n        vertical-align: middle;\n    }\n\n    .dataframe tbody tr th {\n        vertical-align: top;\n    }\n\n    .dataframe thead th {\n        text-align: right;\n    }\n</style>\n<table border=\"1\" class=\"dataframe\">\n  <thead>\n    <tr style=\"text-align: right;\">\n      <th></th>\n      <th>age</th>\n      <th>sex</th>\n      <th>bmi</th>\n      <th>bp</th>\n      <th>s1</th>\n      <th>s2</th>\n      <th>s3</th>\n      <th>s4</th>\n      <th>s5</th>\n      <th>s6</th>\n      <th>target</th>\n    </tr>\n  </thead>\n  <tbody>\n    <tr>\n      <th>0</th>\n      <td>0.038076</td>\n      <td>0.050680</td>\n      <td>0.061696</td>\n      <td>0.021872</td>\n      <td>-0.044223</td>\n      <td>-0.034821</td>\n      <td>-0.043401</td>\n      <td>-0.002592</td>\n      <td>0.019907</td>\n      <td>-0.017646</td>\n      <td>151.0</td>\n    </tr>\n    <tr>\n      <th>1</th>\n      <td>-0.001882</td>\n      <td>-0.044642</td>\n      <td>-0.051474</td>\n      <td>-0.026328</td>\n      <td>-0.008449</td>\n      <td>-0.019163</td>\n      <td>0.074412</td>\n      <td>-0.039493</td>\n      <td>-0.068332</td>\n      <td>-0.092204</td>\n      <td>75.0</td>\n    </tr>\n    <tr>\n      <th>2</th>\n      <td>0.085299</td>\n      <td>0.050680</td>\n      <td>0.044451</td>\n      <td>-0.005670</td>\n      <td>-0.045599</td>\n      <td>-0.034194</td>\n      <td>-0.032356</td>\n      <td>-0.002592</td>\n      <td>0.002861</td>\n      <td>-0.025930</td>\n      <td>141.0</td>\n    </tr>\n    <tr>\n      <th>3</th>\n      <td>-0.089063</td>\n      <td>-0.044642</td>\n      <td>-0.011595</td>\n      <td>-0.036656</td>\n      <td>0.012191</td>\n      <td>0.024991</td>\n      <td>-0.036038</td>\n      <td>0.034309</td>\n      <td>0.022688</td>\n      <td>-0.009362</td>\n      <td>206.0</td>\n    </tr>\n    <tr>\n      <th>4</th>\n      <td>0.005383</td>\n      <td>-0.044642</td>\n      <td>-0.036385</td>\n      <td>0.021872</td>\n      <td>0.003935</td>\n      <td>0.015596</td>\n      <td>0.008142</td>\n      <td>-0.002592</td>\n      <td>-0.031988</td>\n      <td>-0.046641</td>\n      <td>135.0</td>\n    </tr>\n  </tbody>\n</table>\n</div>"
     },
     "execution_count": 38,
     "metadata": {},
     "output_type": "execute_result"
    }
   ],
   "source": [
    "df = pd.DataFrame(X, columns=features)\n",
    "df['target'] = y\n",
    "\n",
    "df.head()"
   ],
   "metadata": {
    "collapsed": false,
    "ExecuteTime": {
     "start_time": "2023-12-02T11:32:04.503828Z",
     "end_time": "2023-12-02T11:32:04.523827Z"
    }
   }
  },
  {
   "cell_type": "raw",
   "source": [
    "Разобьем выборку на две: обучающую и тестовую."
   ],
   "metadata": {
    "collapsed": false
   }
  },
  {
   "cell_type": "code",
   "execution_count": 39,
   "outputs": [
    {
     "data": {
      "text/plain": "((353, 10), (353,), (89, 10), (89,))"
     },
     "execution_count": 39,
     "metadata": {},
     "output_type": "execute_result"
    }
   ],
   "source": [
    "from sklearn.model_selection import train_test_split\n",
    "\n",
    "X_train, X_test, y_train, y_test = train_test_split(\n",
    "    df[features],\n",
    "    df['target'],\n",
    "    test_size=0.2,\n",
    "    shuffle=True,\n",
    "    random_state=3\n",
    ")\n",
    "\n",
    "X_train.shape, y_train.shape, X_test.shape, y_test.shape"
   ],
   "metadata": {
    "collapsed": false,
    "ExecuteTime": {
     "start_time": "2023-12-02T11:32:21.664098Z",
     "end_time": "2023-12-02T11:32:21.685097Z"
    }
   }
  },
  {
   "cell_type": "raw",
   "source": [
    "1.1. Обучение дерева решений\n",
    "- Инициализируйте дерево решений для задачи регрессии\n",
    "- Обучите его на обучающей выборке"
   ],
   "metadata": {
    "collapsed": false
   }
  },
  {
   "cell_type": "code",
   "execution_count": 40,
   "outputs": [
    {
     "data": {
      "text/plain": "DecisionTreeRegressor(random_state=42)",
      "text/html": "<style>#sk-container-id-4 {color: black;}#sk-container-id-4 pre{padding: 0;}#sk-container-id-4 div.sk-toggleable {background-color: white;}#sk-container-id-4 label.sk-toggleable__label {cursor: pointer;display: block;width: 100%;margin-bottom: 0;padding: 0.3em;box-sizing: border-box;text-align: center;}#sk-container-id-4 label.sk-toggleable__label-arrow:before {content: \"▸\";float: left;margin-right: 0.25em;color: #696969;}#sk-container-id-4 label.sk-toggleable__label-arrow:hover:before {color: black;}#sk-container-id-4 div.sk-estimator:hover label.sk-toggleable__label-arrow:before {color: black;}#sk-container-id-4 div.sk-toggleable__content {max-height: 0;max-width: 0;overflow: hidden;text-align: left;background-color: #f0f8ff;}#sk-container-id-4 div.sk-toggleable__content pre {margin: 0.2em;color: black;border-radius: 0.25em;background-color: #f0f8ff;}#sk-container-id-4 input.sk-toggleable__control:checked~div.sk-toggleable__content {max-height: 200px;max-width: 100%;overflow: auto;}#sk-container-id-4 input.sk-toggleable__control:checked~label.sk-toggleable__label-arrow:before {content: \"▾\";}#sk-container-id-4 div.sk-estimator input.sk-toggleable__control:checked~label.sk-toggleable__label {background-color: #d4ebff;}#sk-container-id-4 div.sk-label input.sk-toggleable__control:checked~label.sk-toggleable__label {background-color: #d4ebff;}#sk-container-id-4 input.sk-hidden--visually {border: 0;clip: rect(1px 1px 1px 1px);clip: rect(1px, 1px, 1px, 1px);height: 1px;margin: -1px;overflow: hidden;padding: 0;position: absolute;width: 1px;}#sk-container-id-4 div.sk-estimator {font-family: monospace;background-color: #f0f8ff;border: 1px dotted black;border-radius: 0.25em;box-sizing: border-box;margin-bottom: 0.5em;}#sk-container-id-4 div.sk-estimator:hover {background-color: #d4ebff;}#sk-container-id-4 div.sk-parallel-item::after {content: \"\";width: 100%;border-bottom: 1px solid gray;flex-grow: 1;}#sk-container-id-4 div.sk-label:hover label.sk-toggleable__label {background-color: #d4ebff;}#sk-container-id-4 div.sk-serial::before {content: \"\";position: absolute;border-left: 1px solid gray;box-sizing: border-box;top: 0;bottom: 0;left: 50%;z-index: 0;}#sk-container-id-4 div.sk-serial {display: flex;flex-direction: column;align-items: center;background-color: white;padding-right: 0.2em;padding-left: 0.2em;position: relative;}#sk-container-id-4 div.sk-item {position: relative;z-index: 1;}#sk-container-id-4 div.sk-parallel {display: flex;align-items: stretch;justify-content: center;background-color: white;position: relative;}#sk-container-id-4 div.sk-item::before, #sk-container-id-4 div.sk-parallel-item::before {content: \"\";position: absolute;border-left: 1px solid gray;box-sizing: border-box;top: 0;bottom: 0;left: 50%;z-index: -1;}#sk-container-id-4 div.sk-parallel-item {display: flex;flex-direction: column;z-index: 1;position: relative;background-color: white;}#sk-container-id-4 div.sk-parallel-item:first-child::after {align-self: flex-end;width: 50%;}#sk-container-id-4 div.sk-parallel-item:last-child::after {align-self: flex-start;width: 50%;}#sk-container-id-4 div.sk-parallel-item:only-child::after {width: 0;}#sk-container-id-4 div.sk-dashed-wrapped {border: 1px dashed gray;margin: 0 0.4em 0.5em 0.4em;box-sizing: border-box;padding-bottom: 0.4em;background-color: white;}#sk-container-id-4 div.sk-label label {font-family: monospace;font-weight: bold;display: inline-block;line-height: 1.2em;}#sk-container-id-4 div.sk-label-container {text-align: center;}#sk-container-id-4 div.sk-container {/* jupyter's `normalize.less` sets `[hidden] { display: none; }` but bootstrap.min.css set `[hidden] { display: none !important; }` so we also need the `!important` here to be able to override the default hidden behavior on the sphinx rendered scikit-learn.org. See: https://github.com/scikit-learn/scikit-learn/issues/21755 */display: inline-block !important;position: relative;}#sk-container-id-4 div.sk-text-repr-fallback {display: none;}</style><div id=\"sk-container-id-4\" class=\"sk-top-container\"><div class=\"sk-text-repr-fallback\"><pre>DecisionTreeRegressor(random_state=42)</pre><b>In a Jupyter environment, please rerun this cell to show the HTML representation or trust the notebook. <br />On GitHub, the HTML representation is unable to render, please try loading this page with nbviewer.org.</b></div><div class=\"sk-container\" hidden><div class=\"sk-item\"><div class=\"sk-estimator sk-toggleable\"><input class=\"sk-toggleable__control sk-hidden--visually\" id=\"sk-estimator-id-4\" type=\"checkbox\" checked><label for=\"sk-estimator-id-4\" class=\"sk-toggleable__label sk-toggleable__label-arrow\">DecisionTreeRegressor</label><div class=\"sk-toggleable__content\"><pre>DecisionTreeRegressor(random_state=42)</pre></div></div></div></div></div>"
     },
     "execution_count": 40,
     "metadata": {},
     "output_type": "execute_result"
    }
   ],
   "source": [
    "from sklearn.tree import DecisionTreeRegressor\n",
    "\n",
    "reg_tree = DecisionTreeRegressor(random_state=42)\n",
    "reg_tree.fit(X_train, y_train)"
   ],
   "metadata": {
    "collapsed": false,
    "ExecuteTime": {
     "start_time": "2023-12-02T11:32:43.076268Z",
     "end_time": "2023-12-02T11:32:43.144268Z"
    }
   }
  },
  {
   "cell_type": "raw",
   "source": [
    "1.2. Получение метрик качества\n",
    "Узнаем, насколько дерево решений обучилось хорошо, для этого\n",
    "\n",
    "- Сделайте предсказания моделью для обучающей выборки\n",
    "- Сделайте предсказания моделью для тестовой выборки\n",
    "- Посчитайте метрику качества средне-квадратичная ошибка\n",
    "- Посчитайте метрику качества коэффициент детерминации"
   ],
   "metadata": {
    "collapsed": false
   }
  },
  {
   "cell_type": "code",
   "execution_count": 41,
   "outputs": [],
   "source": [
    "y_train_pred = reg_tree.predict(X_train)\n",
    "y_test_pred = reg_tree.predict(X_test)"
   ],
   "metadata": {
    "collapsed": false,
    "ExecuteTime": {
     "start_time": "2023-12-02T11:33:03.288759Z",
     "end_time": "2023-12-02T11:33:03.309759Z"
    }
   }
  },
  {
   "cell_type": "raw",
   "source": [
    "Сделайте вывод, насколько хорошо обучилась модель"
   ],
   "metadata": {
    "collapsed": false
   }
  },
  {
   "cell_type": "code",
   "execution_count": 42,
   "outputs": [
    {
     "name": "stdout",
     "output_type": "stream",
     "text": [
      "MSE (обучение): 0.0\n",
      "MSE (тест): 5929.685393258427\n",
      "R2 (обучение): 1.0\n",
      "R2 (тест): -0.09510918464525231\n"
     ]
    }
   ],
   "source": [
    "from sklearn.metrics import mean_squared_error\n",
    "\n",
    "mse_train = mean_squared_error(y_train, y_train_pred)\n",
    "mse_test = mean_squared_error(y_test, y_test_pred)\n",
    "\n",
    "print(\"MSE (обучение):\", mse_train)\n",
    "print(\"MSE (тест):\", mse_test)\n",
    "\n",
    "from sklearn.metrics import r2_score\n",
    "\n",
    "r2_train = r2_score(y_train, y_train_pred)\n",
    "r2_test = r2_score(y_test, y_test_pred)\n",
    "\n",
    "print(\"R2 (обучение):\", r2_train)\n",
    "print(\"R2 (тест):\", r2_test)"
   ],
   "metadata": {
    "collapsed": false,
    "ExecuteTime": {
     "start_time": "2023-12-02T11:33:29.063941Z",
     "end_time": "2023-12-02T11:33:29.083941Z"
    }
   }
  },
  {
   "cell_type": "raw",
   "source": [
    "1.3. Изменение метрики\n",
    "Попробуйте поизменять известные параметры для того, чтобы метрика стала лучше."
   ],
   "metadata": {
    "collapsed": false
   }
  },
  {
   "cell_type": "code",
   "execution_count": 43,
   "outputs": [
    {
     "data": {
      "text/plain": "DecisionTreeRegressor(criterion='poisson', max_depth=8, min_samples_leaf=40,\n                      random_state=1)",
      "text/html": "<style>#sk-container-id-5 {color: black;}#sk-container-id-5 pre{padding: 0;}#sk-container-id-5 div.sk-toggleable {background-color: white;}#sk-container-id-5 label.sk-toggleable__label {cursor: pointer;display: block;width: 100%;margin-bottom: 0;padding: 0.3em;box-sizing: border-box;text-align: center;}#sk-container-id-5 label.sk-toggleable__label-arrow:before {content: \"▸\";float: left;margin-right: 0.25em;color: #696969;}#sk-container-id-5 label.sk-toggleable__label-arrow:hover:before {color: black;}#sk-container-id-5 div.sk-estimator:hover label.sk-toggleable__label-arrow:before {color: black;}#sk-container-id-5 div.sk-toggleable__content {max-height: 0;max-width: 0;overflow: hidden;text-align: left;background-color: #f0f8ff;}#sk-container-id-5 div.sk-toggleable__content pre {margin: 0.2em;color: black;border-radius: 0.25em;background-color: #f0f8ff;}#sk-container-id-5 input.sk-toggleable__control:checked~div.sk-toggleable__content {max-height: 200px;max-width: 100%;overflow: auto;}#sk-container-id-5 input.sk-toggleable__control:checked~label.sk-toggleable__label-arrow:before {content: \"▾\";}#sk-container-id-5 div.sk-estimator input.sk-toggleable__control:checked~label.sk-toggleable__label {background-color: #d4ebff;}#sk-container-id-5 div.sk-label input.sk-toggleable__control:checked~label.sk-toggleable__label {background-color: #d4ebff;}#sk-container-id-5 input.sk-hidden--visually {border: 0;clip: rect(1px 1px 1px 1px);clip: rect(1px, 1px, 1px, 1px);height: 1px;margin: -1px;overflow: hidden;padding: 0;position: absolute;width: 1px;}#sk-container-id-5 div.sk-estimator {font-family: monospace;background-color: #f0f8ff;border: 1px dotted black;border-radius: 0.25em;box-sizing: border-box;margin-bottom: 0.5em;}#sk-container-id-5 div.sk-estimator:hover {background-color: #d4ebff;}#sk-container-id-5 div.sk-parallel-item::after {content: \"\";width: 100%;border-bottom: 1px solid gray;flex-grow: 1;}#sk-container-id-5 div.sk-label:hover label.sk-toggleable__label {background-color: #d4ebff;}#sk-container-id-5 div.sk-serial::before {content: \"\";position: absolute;border-left: 1px solid gray;box-sizing: border-box;top: 0;bottom: 0;left: 50%;z-index: 0;}#sk-container-id-5 div.sk-serial {display: flex;flex-direction: column;align-items: center;background-color: white;padding-right: 0.2em;padding-left: 0.2em;position: relative;}#sk-container-id-5 div.sk-item {position: relative;z-index: 1;}#sk-container-id-5 div.sk-parallel {display: flex;align-items: stretch;justify-content: center;background-color: white;position: relative;}#sk-container-id-5 div.sk-item::before, #sk-container-id-5 div.sk-parallel-item::before {content: \"\";position: absolute;border-left: 1px solid gray;box-sizing: border-box;top: 0;bottom: 0;left: 50%;z-index: -1;}#sk-container-id-5 div.sk-parallel-item {display: flex;flex-direction: column;z-index: 1;position: relative;background-color: white;}#sk-container-id-5 div.sk-parallel-item:first-child::after {align-self: flex-end;width: 50%;}#sk-container-id-5 div.sk-parallel-item:last-child::after {align-self: flex-start;width: 50%;}#sk-container-id-5 div.sk-parallel-item:only-child::after {width: 0;}#sk-container-id-5 div.sk-dashed-wrapped {border: 1px dashed gray;margin: 0 0.4em 0.5em 0.4em;box-sizing: border-box;padding-bottom: 0.4em;background-color: white;}#sk-container-id-5 div.sk-label label {font-family: monospace;font-weight: bold;display: inline-block;line-height: 1.2em;}#sk-container-id-5 div.sk-label-container {text-align: center;}#sk-container-id-5 div.sk-container {/* jupyter's `normalize.less` sets `[hidden] { display: none; }` but bootstrap.min.css set `[hidden] { display: none !important; }` so we also need the `!important` here to be able to override the default hidden behavior on the sphinx rendered scikit-learn.org. See: https://github.com/scikit-learn/scikit-learn/issues/21755 */display: inline-block !important;position: relative;}#sk-container-id-5 div.sk-text-repr-fallback {display: none;}</style><div id=\"sk-container-id-5\" class=\"sk-top-container\"><div class=\"sk-text-repr-fallback\"><pre>DecisionTreeRegressor(criterion=&#x27;poisson&#x27;, max_depth=8, min_samples_leaf=40,\n                      random_state=1)</pre><b>In a Jupyter environment, please rerun this cell to show the HTML representation or trust the notebook. <br />On GitHub, the HTML representation is unable to render, please try loading this page with nbviewer.org.</b></div><div class=\"sk-container\" hidden><div class=\"sk-item\"><div class=\"sk-estimator sk-toggleable\"><input class=\"sk-toggleable__control sk-hidden--visually\" id=\"sk-estimator-id-5\" type=\"checkbox\" checked><label for=\"sk-estimator-id-5\" class=\"sk-toggleable__label sk-toggleable__label-arrow\">DecisionTreeRegressor</label><div class=\"sk-toggleable__content\"><pre>DecisionTreeRegressor(criterion=&#x27;poisson&#x27;, max_depth=8, min_samples_leaf=40,\n                      random_state=1)</pre></div></div></div></div></div>"
     },
     "execution_count": 43,
     "metadata": {},
     "output_type": "execute_result"
    }
   ],
   "source": [
    "reg_tree = DecisionTreeRegressor(criterion=\"poisson\", max_depth=8, min_samples_leaf=40, random_state=1)\n",
    "reg_tree.fit(X_train, y_train)"
   ],
   "metadata": {
    "collapsed": false,
    "ExecuteTime": {
     "start_time": "2023-12-02T11:33:55.448108Z",
     "end_time": "2023-12-02T11:33:55.469107Z"
    }
   }
  },
  {
   "cell_type": "code",
   "execution_count": 44,
   "outputs": [
    {
     "name": "stdout",
     "output_type": "stream",
     "text": [
      "MSE (обучение): 3167.7977287363933\n",
      "MSE (тест): 3214.9311195147966\n",
      "R2 (обучение): 0.4763639240819252\n",
      "R2 (тест): 0.4062584499027134\n"
     ]
    }
   ],
   "source": [
    "y_train_pred = reg_tree.predict(X_train)\n",
    "y_test_pred = reg_tree.predict(X_test)\n",
    "\n",
    "from sklearn.metrics import mean_squared_error\n",
    "\n",
    "mse_train = mean_squared_error(y_train, y_train_pred)\n",
    "mse_test = mean_squared_error(y_test, y_test_pred)\n",
    "\n",
    "print(\"MSE (обучение):\", mse_train)\n",
    "print(\"MSE (тест):\", mse_test)\n",
    "\n",
    "from sklearn.metrics import r2_score\n",
    "\n",
    "r2_train = r2_score(y_train, y_train_pred)\n",
    "r2_test = r2_score(y_test, y_test_pred)\n",
    "\n",
    "print(\"R2 (обучение):\", r2_train)\n",
    "print(\"R2 (тест):\", r2_test)"
   ],
   "metadata": {
    "collapsed": false,
    "ExecuteTime": {
     "start_time": "2023-12-02T11:34:06.553168Z",
     "end_time": "2023-12-02T11:34:06.574168Z"
    }
   }
  },
  {
   "cell_type": "raw",
   "source": [
    "2. Получение данных make_regression\n",
    "Для второго примера возьмем самодельный набор данных для задачи регрессии make_regression, который можно получить из стандартных датасетов в sklearn'e.\n",
    "\n",
    "Сгенерируем себе 100к объектов, которые описываются 20 признаками, из них 12 будут дейтсвительно полезными."
   ],
   "metadata": {
    "collapsed": false
   }
  },
  {
   "cell_type": "code",
   "execution_count": 45,
   "outputs": [],
   "source": [
    "from sklearn.datasets import make_regression\n",
    "\n",
    "X, y = make_regression(n_samples=100_000, n_features=20, n_informative=12, random_state=10)"
   ],
   "metadata": {
    "collapsed": false,
    "ExecuteTime": {
     "start_time": "2023-12-02T11:34:28.039127Z",
     "end_time": "2023-12-02T11:34:28.096127Z"
    }
   }
  },
  {
   "cell_type": "code",
   "execution_count": 46,
   "outputs": [
    {
     "data": {
      "text/plain": "((100000, 20), (100000,))"
     },
     "execution_count": 46,
     "metadata": {},
     "output_type": "execute_result"
    }
   ],
   "source": [
    "X.shape, y.shape"
   ],
   "metadata": {
    "collapsed": false,
    "ExecuteTime": {
     "start_time": "2023-12-02T11:34:32.406612Z",
     "end_time": "2023-12-02T11:34:32.429612Z"
    }
   }
  },
  {
   "cell_type": "raw",
   "source": [
    "Разобьем выборку на две: обучающую и тестовую."
   ],
   "metadata": {
    "collapsed": false
   }
  },
  {
   "cell_type": "code",
   "execution_count": 47,
   "outputs": [
    {
     "data": {
      "text/plain": "((80000, 20), (80000,), (20000, 20), (20000,))"
     },
     "execution_count": 47,
     "metadata": {},
     "output_type": "execute_result"
    }
   ],
   "source": [
    "from sklearn.model_selection import train_test_split\n",
    "\n",
    "X_train, X_test, y_train, y_test = train_test_split(\n",
    "    X,\n",
    "    y,\n",
    "    test_size=0.2,\n",
    "    shuffle=True,\n",
    "    random_state=3\n",
    ")\n",
    "\n",
    "X_train.shape, y_train.shape, X_test.shape, y_test.shape"
   ],
   "metadata": {
    "collapsed": false,
    "ExecuteTime": {
     "start_time": "2023-12-02T11:34:43.129573Z",
     "end_time": "2023-12-02T11:34:43.180211Z"
    }
   }
  },
  {
   "cell_type": "raw",
   "source": [
    "2.1. Обучение дерева решений\n",
    "- Инициализируйте дерево решений для задачи регрессии\n",
    "- Обучите его на обучающей выборке\n"
   ],
   "metadata": {
    "collapsed": false
   }
  },
  {
   "cell_type": "code",
   "execution_count": 49,
   "outputs": [
    {
     "data": {
      "text/plain": "DecisionTreeRegressor(max_depth=5, min_samples_leaf=2, random_state=42)",
      "text/html": "<style>#sk-container-id-6 {color: black;}#sk-container-id-6 pre{padding: 0;}#sk-container-id-6 div.sk-toggleable {background-color: white;}#sk-container-id-6 label.sk-toggleable__label {cursor: pointer;display: block;width: 100%;margin-bottom: 0;padding: 0.3em;box-sizing: border-box;text-align: center;}#sk-container-id-6 label.sk-toggleable__label-arrow:before {content: \"▸\";float: left;margin-right: 0.25em;color: #696969;}#sk-container-id-6 label.sk-toggleable__label-arrow:hover:before {color: black;}#sk-container-id-6 div.sk-estimator:hover label.sk-toggleable__label-arrow:before {color: black;}#sk-container-id-6 div.sk-toggleable__content {max-height: 0;max-width: 0;overflow: hidden;text-align: left;background-color: #f0f8ff;}#sk-container-id-6 div.sk-toggleable__content pre {margin: 0.2em;color: black;border-radius: 0.25em;background-color: #f0f8ff;}#sk-container-id-6 input.sk-toggleable__control:checked~div.sk-toggleable__content {max-height: 200px;max-width: 100%;overflow: auto;}#sk-container-id-6 input.sk-toggleable__control:checked~label.sk-toggleable__label-arrow:before {content: \"▾\";}#sk-container-id-6 div.sk-estimator input.sk-toggleable__control:checked~label.sk-toggleable__label {background-color: #d4ebff;}#sk-container-id-6 div.sk-label input.sk-toggleable__control:checked~label.sk-toggleable__label {background-color: #d4ebff;}#sk-container-id-6 input.sk-hidden--visually {border: 0;clip: rect(1px 1px 1px 1px);clip: rect(1px, 1px, 1px, 1px);height: 1px;margin: -1px;overflow: hidden;padding: 0;position: absolute;width: 1px;}#sk-container-id-6 div.sk-estimator {font-family: monospace;background-color: #f0f8ff;border: 1px dotted black;border-radius: 0.25em;box-sizing: border-box;margin-bottom: 0.5em;}#sk-container-id-6 div.sk-estimator:hover {background-color: #d4ebff;}#sk-container-id-6 div.sk-parallel-item::after {content: \"\";width: 100%;border-bottom: 1px solid gray;flex-grow: 1;}#sk-container-id-6 div.sk-label:hover label.sk-toggleable__label {background-color: #d4ebff;}#sk-container-id-6 div.sk-serial::before {content: \"\";position: absolute;border-left: 1px solid gray;box-sizing: border-box;top: 0;bottom: 0;left: 50%;z-index: 0;}#sk-container-id-6 div.sk-serial {display: flex;flex-direction: column;align-items: center;background-color: white;padding-right: 0.2em;padding-left: 0.2em;position: relative;}#sk-container-id-6 div.sk-item {position: relative;z-index: 1;}#sk-container-id-6 div.sk-parallel {display: flex;align-items: stretch;justify-content: center;background-color: white;position: relative;}#sk-container-id-6 div.sk-item::before, #sk-container-id-6 div.sk-parallel-item::before {content: \"\";position: absolute;border-left: 1px solid gray;box-sizing: border-box;top: 0;bottom: 0;left: 50%;z-index: -1;}#sk-container-id-6 div.sk-parallel-item {display: flex;flex-direction: column;z-index: 1;position: relative;background-color: white;}#sk-container-id-6 div.sk-parallel-item:first-child::after {align-self: flex-end;width: 50%;}#sk-container-id-6 div.sk-parallel-item:last-child::after {align-self: flex-start;width: 50%;}#sk-container-id-6 div.sk-parallel-item:only-child::after {width: 0;}#sk-container-id-6 div.sk-dashed-wrapped {border: 1px dashed gray;margin: 0 0.4em 0.5em 0.4em;box-sizing: border-box;padding-bottom: 0.4em;background-color: white;}#sk-container-id-6 div.sk-label label {font-family: monospace;font-weight: bold;display: inline-block;line-height: 1.2em;}#sk-container-id-6 div.sk-label-container {text-align: center;}#sk-container-id-6 div.sk-container {/* jupyter's `normalize.less` sets `[hidden] { display: none; }` but bootstrap.min.css set `[hidden] { display: none !important; }` so we also need the `!important` here to be able to override the default hidden behavior on the sphinx rendered scikit-learn.org. See: https://github.com/scikit-learn/scikit-learn/issues/21755 */display: inline-block !important;position: relative;}#sk-container-id-6 div.sk-text-repr-fallback {display: none;}</style><div id=\"sk-container-id-6\" class=\"sk-top-container\"><div class=\"sk-text-repr-fallback\"><pre>DecisionTreeRegressor(max_depth=5, min_samples_leaf=2, random_state=42)</pre><b>In a Jupyter environment, please rerun this cell to show the HTML representation or trust the notebook. <br />On GitHub, the HTML representation is unable to render, please try loading this page with nbviewer.org.</b></div><div class=\"sk-container\" hidden><div class=\"sk-item\"><div class=\"sk-estimator sk-toggleable\"><input class=\"sk-toggleable__control sk-hidden--visually\" id=\"sk-estimator-id-6\" type=\"checkbox\" checked><label for=\"sk-estimator-id-6\" class=\"sk-toggleable__label sk-toggleable__label-arrow\">DecisionTreeRegressor</label><div class=\"sk-toggleable__content\"><pre>DecisionTreeRegressor(max_depth=5, min_samples_leaf=2, random_state=42)</pre></div></div></div></div></div>"
     },
     "execution_count": 49,
     "metadata": {},
     "output_type": "execute_result"
    }
   ],
   "source": [
    "from sklearn.tree import DecisionTreeRegressor\n",
    "reg_tree = DecisionTreeRegressor(criterion=\"squared_error\", max_depth=5, min_samples_leaf=2, random_state=42)\n",
    "reg_tree.fit(X_train, y_train)"
   ],
   "metadata": {
    "collapsed": false,
    "ExecuteTime": {
     "start_time": "2023-12-02T11:35:15.119043Z",
     "end_time": "2023-12-02T11:35:16.493260Z"
    }
   }
  },
  {
   "cell_type": "raw",
   "source": [
    "2.2. Получение метрик качества\n",
    "Узнаем, насколько дерево решений обучилось хорошо, для этого\n",
    "\n",
    "- Сделайте предсказания моделью для обучающей выборки\n",
    "- Сделайте предсказания моделью для тестовой выборки\n",
    "- Посчитайте метрику качества средне-квадратичная ошибка\n",
    "- Посчитайте метрику качества коэффициент детерминации"
   ],
   "metadata": {
    "collapsed": false
   }
  },
  {
   "cell_type": "code",
   "execution_count": 50,
   "outputs": [
    {
     "name": "stdout",
     "output_type": "stream",
     "text": [
      "MSE (обучение): 27785.177141947202\n",
      "MSE (тест): 28404.350366594077\n",
      "R2 (обучение): 0.4859082392067524\n",
      "R2 (тест): 0.4738762029658744\n"
     ]
    }
   ],
   "source": [
    "y_train_pred = reg_tree.predict(X_train)\n",
    "y_test_pred = reg_tree.predict(X_test)\n",
    "\n",
    "from sklearn.metrics import mean_squared_error\n",
    "\n",
    "mse_train = mean_squared_error(y_train, y_train_pred)\n",
    "mse_test = mean_squared_error(y_test, y_test_pred)\n",
    "\n",
    "print(\"MSE (обучение):\", mse_train)\n",
    "print(\"MSE (тест):\", mse_test)\n",
    "\n",
    "from sklearn.metrics import r2_score\n",
    "\n",
    "r2_train = r2_score(y_train, y_train_pred)\n",
    "r2_test = r2_score(y_test, y_test_pred)\n",
    "\n",
    "print(\"R2 (обучение):\", r2_train)\n",
    "print(\"R2 (тест):\", r2_test)"
   ],
   "metadata": {
    "collapsed": false,
    "ExecuteTime": {
     "start_time": "2023-12-02T11:35:42.898553Z",
     "end_time": "2023-12-02T11:35:42.948553Z"
    }
   }
  },
  {
   "cell_type": "raw",
   "source": [
    "Сделайте вывод, насколько хорошо обучилась модель"
   ],
   "metadata": {
    "collapsed": false
   }
  },
  {
   "cell_type": "code",
   "execution_count": 51,
   "outputs": [
    {
     "name": "stdout",
     "output_type": "stream",
     "text": [
      "Как видно из метрики R2 модель работает лучше чем просто подсчет среднего\n"
     ]
    }
   ],
   "source": [
    "print(\"Как видно из метрики R2 модель работает лучше чем просто подсчет среднего\")"
   ],
   "metadata": {
    "collapsed": false,
    "ExecuteTime": {
     "start_time": "2023-12-02T11:36:17.742532Z",
     "end_time": "2023-12-02T11:36:17.772532Z"
    }
   }
  },
  {
   "cell_type": "raw",
   "source": [
    "2.3. Перебор гиперпараметров\n",
    "Осуществите перебор параметров для получения лучших результатов (GridSearchCV, см. подход из п.0)."
   ],
   "metadata": {
    "collapsed": false
   }
  },
  {
   "cell_type": "code",
   "execution_count": 52,
   "outputs": [
    {
     "name": "stdout",
     "output_type": "stream",
     "text": [
      "Fitting 5 folds for each of 18 candidates, totalling 90 fits\n"
     ]
    }
   ],
   "source": [
    "from sklearn.model_selection import GridSearchCV\n",
    "from sklearn.tree import DecisionTreeRegressor\n",
    "\n",
    "tree = DecisionTreeRegressor(random_state=42)\n",
    "\n",
    "param_grid = {\n",
    "    \"criterion\": [\"squared_error\", \"friedman_mse\"],\n",
    "    \"max_depth\": [2, 5, 10],\n",
    "    \"min_samples_leaf\":  [2, 5, 10]\n",
    "}\n",
    "\n",
    "grid = GridSearchCV(tree, param_grid, cv=5, verbose=1)\n",
    "\n",
    "grid_search = grid.fit(X_train, y_train)"
   ],
   "metadata": {
    "collapsed": false,
    "ExecuteTime": {
     "start_time": "2023-12-02T11:36:35.712791Z",
     "end_time": "2023-12-02T11:38:24.252239Z"
    }
   }
  },
  {
   "cell_type": "code",
   "execution_count": 53,
   "outputs": [
    {
     "data": {
      "text/plain": "{'criterion': 'squared_error', 'max_depth': 10, 'min_samples_leaf': 10}"
     },
     "execution_count": 53,
     "metadata": {},
     "output_type": "execute_result"
    }
   ],
   "source": [
    "grid_search.best_params_"
   ],
   "metadata": {
    "collapsed": false,
    "ExecuteTime": {
     "start_time": "2023-12-02T11:40:01.586189Z",
     "end_time": "2023-12-02T11:40:01.602189Z"
    }
   }
  },
  {
   "cell_type": "code",
   "execution_count": 54,
   "outputs": [],
   "source": [
    "tree = grid_search.best_estimator_\n",
    "y_pred_best = tree.predict(X_test)"
   ],
   "metadata": {
    "collapsed": false,
    "ExecuteTime": {
     "start_time": "2023-12-02T11:40:02.988677Z",
     "end_time": "2023-12-02T11:40:03.000679Z"
    }
   }
  },
  {
   "cell_type": "code",
   "execution_count": 55,
   "outputs": [
    {
     "name": "stdout",
     "output_type": "stream",
     "text": [
      "MSE=17128.390185141296\n",
      "R2=0.5780001138008368\n"
     ]
    }
   ],
   "source": [
    "from sklearn.metrics import mean_squared_error, r2_score\n",
    "\n",
    "print(f'MSE={mean_squared_error(y_pred_best, y_test)}')\n",
    "print(f'R2={r2_score(y_pred_best, y_test)}')"
   ],
   "metadata": {
    "collapsed": false,
    "ExecuteTime": {
     "start_time": "2023-12-02T11:40:03.719912Z",
     "end_time": "2023-12-02T11:40:03.746911Z"
    }
   }
  },
  {
   "cell_type": "code",
   "execution_count": null,
   "outputs": [],
   "source": [],
   "metadata": {
    "collapsed": false
   }
  }
 ],
 "metadata": {
  "kernelspec": {
   "display_name": "Python 3",
   "language": "python",
   "name": "python3"
  },
  "language_info": {
   "codemirror_mode": {
    "name": "ipython",
    "version": 2
   },
   "file_extension": ".py",
   "mimetype": "text/x-python",
   "name": "python",
   "nbconvert_exporter": "python",
   "pygments_lexer": "ipython2",
   "version": "2.7.6"
  }
 },
 "nbformat": 4,
 "nbformat_minor": 0
}
