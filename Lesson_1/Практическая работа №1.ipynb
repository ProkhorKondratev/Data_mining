{
 "cells": [
  {
   "cell_type": "raw",
   "source": [
    "1. Импортировать numpy и написать версию"
   ],
   "metadata": {
    "collapsed": false
   }
  },
  {
   "cell_type": "code",
   "execution_count": 1,
   "outputs": [
    {
     "data": {
      "text/plain": "'1.26.0'"
     },
     "execution_count": 1,
     "metadata": {},
     "output_type": "execute_result"
    }
   ],
   "source": [
    "import numpy as np\n",
    "\n",
    "np.__version__"
   ],
   "metadata": {
    "collapsed": false,
    "ExecuteTime": {
     "end_time": "2023-09-30T08:03:10.186882Z",
     "start_time": "2023-09-30T08:03:10.094441Z"
    }
   }
  },
  {
   "cell_type": "raw",
   "source": [
    "2. Создать нулевой вектор размера 10"
   ],
   "metadata": {
    "collapsed": false
   }
  },
  {
   "cell_type": "code",
   "execution_count": 2,
   "outputs": [
    {
     "data": {
      "text/plain": "array([0., 0., 0., 0., 0., 0., 0., 0., 0., 0.])"
     },
     "execution_count": 2,
     "metadata": {},
     "output_type": "execute_result"
    }
   ],
   "source": [
    "np.zeros(10)"
   ],
   "metadata": {
    "collapsed": false,
    "ExecuteTime": {
     "end_time": "2023-09-30T08:03:15.214765Z",
     "start_time": "2023-09-30T08:03:15.208518Z"
    }
   }
  },
  {
   "cell_type": "raw",
   "source": [
    "3. Создать вектор заполненный 7-ами размера 7"
   ],
   "metadata": {
    "collapsed": false
   }
  },
  {
   "cell_type": "code",
   "execution_count": 8,
   "outputs": [
    {
     "data": {
      "text/plain": "array([7, 7, 7, 7, 7, 7, 7])"
     },
     "execution_count": 8,
     "metadata": {},
     "output_type": "execute_result"
    }
   ],
   "source": [
    "np.full(7, 7)"
   ],
   "metadata": {
    "collapsed": false,
    "ExecuteTime": {
     "end_time": "2023-09-30T08:05:11.375027Z",
     "start_time": "2023-09-30T08:05:11.370076Z"
    }
   }
  },
  {
   "cell_type": "raw",
   "source": [
    "4. Создать вектор заполненный четными числами от 10 до 100"
   ],
   "metadata": {
    "collapsed": false
   }
  },
  {
   "cell_type": "code",
   "execution_count": 9,
   "outputs": [
    {
     "data": {
      "text/plain": "array([ 10,  12,  14,  16,  18,  20,  22,  24,  26,  28,  30,  32,  34,\n        36,  38,  40,  42,  44,  46,  48,  50,  52,  54,  56,  58,  60,\n        62,  64,  66,  68,  70,  72,  74,  76,  78,  80,  82,  84,  86,\n        88,  90,  92,  94,  96,  98, 100])"
     },
     "execution_count": 9,
     "metadata": {},
     "output_type": "execute_result"
    }
   ],
   "source": [
    "np.arange(10, 101, 2)"
   ],
   "metadata": {
    "collapsed": false,
    "ExecuteTime": {
     "end_time": "2023-09-30T08:05:57.442111Z",
     "start_time": "2023-09-30T08:05:57.437268Z"
    }
   }
  },
  {
   "cell_type": "raw",
   "source": [
    "5. Создать массив случайных чисел и развернуть его задом наперёд"
   ],
   "metadata": {
    "collapsed": false
   }
  },
  {
   "cell_type": "code",
   "execution_count": 10,
   "outputs": [
    {
     "data": {
      "text/plain": "array([0.33709483, 0.18355804, 0.94978234, 0.74844414, 0.23923481,\n       0.41066112, 0.66298945, 0.60087867, 0.04197241, 0.97243516])"
     },
     "execution_count": 10,
     "metadata": {},
     "output_type": "execute_result"
    }
   ],
   "source": [
    "arr = np.random.random(10)\n",
    "arr[::-1]"
   ],
   "metadata": {
    "collapsed": false,
    "ExecuteTime": {
     "end_time": "2023-09-30T08:06:35.055737Z",
     "start_time": "2023-09-30T08:06:35.050988Z"
    }
   }
  },
  {
   "cell_type": "raw",
   "source": [
    "6. Создать двумерную матрицу размера 3 на 3, заполненную числами от 0 до 9"
   ],
   "metadata": {
    "collapsed": false
   }
  },
  {
   "cell_type": "code",
   "execution_count": 12,
   "outputs": [
    {
     "data": {
      "text/plain": "array([[0, 1, 2],\n       [3, 4, 5],\n       [6, 7, 8]])"
     },
     "execution_count": 12,
     "metadata": {},
     "output_type": "execute_result"
    }
   ],
   "source": [
    "np.arange(9).reshape(3, 3)"
   ],
   "metadata": {
    "collapsed": false,
    "ExecuteTime": {
     "end_time": "2023-09-30T08:07:43.838526Z",
     "start_time": "2023-09-30T08:07:43.830622Z"
    }
   }
  },
  {
   "cell_type": "raw",
   "source": [
    "7. Создать матрицу размера 4 на 4 с единицами на диагонали смещеной на один наверх"
   ],
   "metadata": {
    "collapsed": false
   }
  },
  {
   "cell_type": "code",
   "execution_count": 15,
   "outputs": [
    {
     "data": {
      "text/plain": "array([[0., 1., 0., 0.],\n       [0., 0., 1., 0.],\n       [0., 0., 0., 1.],\n       [0., 0., 0., 0.]])"
     },
     "execution_count": 15,
     "metadata": {},
     "output_type": "execute_result"
    }
   ],
   "source": [
    "np.eye(4, k=1)"
   ],
   "metadata": {
    "collapsed": false,
    "ExecuteTime": {
     "end_time": "2023-09-30T08:08:21.826303Z",
     "start_time": "2023-09-30T08:08:21.821553Z"
    }
   }
  },
  {
   "cell_type": "raw",
   "source": [
    "8. Создать матрицу с числами в диапазоне от 1 до 4 по диагонали. В других ячейках матрицы должны быть семерки"
   ],
   "metadata": {
    "collapsed": false
   }
  },
  {
   "cell_type": "code",
   "execution_count": 20,
   "outputs": [
    {
     "data": {
      "text/plain": "array([[1, 7, 7, 7],\n       [7, 2, 7, 7],\n       [7, 7, 3, 7],\n       [7, 7, 7, 4]])"
     },
     "execution_count": 20,
     "metadata": {},
     "output_type": "execute_result"
    }
   ],
   "source": [
    "matrix = np.full((4, 4), 7)\n",
    "np.fill_diagonal(matrix, np.arange(1, 5))\n",
    "matrix"
   ],
   "metadata": {
    "collapsed": false,
    "ExecuteTime": {
     "end_time": "2023-09-30T08:10:50.292948Z",
     "start_time": "2023-09-30T08:10:50.288296Z"
    }
   }
  },
  {
   "cell_type": "raw",
   "source": [
    "9. Создать матрицу размера 5 на 5 заполненную чилами от 0 до 4 в строках"
   ],
   "metadata": {
    "collapsed": false
   }
  },
  {
   "cell_type": "code",
   "execution_count": 37,
   "outputs": [
    {
     "data": {
      "text/plain": "array([[0., 1., 2., 3., 4.],\n       [0., 1., 2., 3., 4.],\n       [0., 1., 2., 3., 4.],\n       [0., 1., 2., 3., 4.],\n       [0., 1., 2., 3., 4.]])"
     },
     "execution_count": 37,
     "metadata": {},
     "output_type": "execute_result"
    }
   ],
   "source": [
    "np.zeros((5, 5)) + np.arange(5)"
   ],
   "metadata": {
    "collapsed": false,
    "ExecuteTime": {
     "end_time": "2023-09-30T08:15:38.332279Z",
     "start_time": "2023-09-30T08:15:38.328936Z"
    }
   }
  },
  {
   "cell_type": "raw",
   "source": [
    "10. Создать матрицу случайных чисел размера 10 на 10 и отнять среднее по строкам из каждого элемента строки"
   ],
   "metadata": {
    "collapsed": false
   }
  },
  {
   "cell_type": "code",
   "execution_count": 38,
   "outputs": [
    {
     "data": {
      "text/plain": "array([[0.20076333, 0.54078335, 0.60810778, 0.85504743, 0.71766874,\n        0.67115348, 0.62383172, 0.11368979, 0.43819896, 0.49417696],\n       [0.00989127, 0.09516053, 0.53221964, 0.90406288, 0.62263741,\n        0.67358975, 0.91159723, 0.47057773, 0.32179735, 0.27424289],\n       [0.13807122, 0.43809636, 0.63192258, 0.10877093, 0.76924617,\n        0.63221643, 0.07291979, 0.76215963, 0.70241166, 0.85746365],\n       [0.62751111, 0.13840992, 0.48536992, 0.84885133, 0.65351486,\n        0.64589744, 0.16383903, 0.39399169, 0.52765697, 0.84355119],\n       [0.8697842 , 0.94621141, 0.57923916, 0.42471761, 0.94776422,\n        0.01080672, 0.79607927, 0.62183083, 0.89005973, 0.3314787 ],\n       [0.10643856, 0.9463068 , 0.3780384 , 0.39793634, 0.37894244,\n        0.84956697, 0.15212089, 0.81993973, 0.12568288, 0.69206259],\n       [0.43735773, 0.2008287 , 0.27042372, 0.9590061 , 0.33875609,\n        0.2299896 , 0.28176991, 0.11144432, 0.06102149, 0.28475791],\n       [0.01691453, 0.34979056, 0.30841589, 0.99037403, 0.25349142,\n        0.94191066, 0.19397378, 0.7468841 , 0.46532548, 0.44380799],\n       [0.68158006, 0.32064128, 0.68215562, 0.10191899, 0.89836337,\n        0.14033247, 0.73778643, 0.6920724 , 0.53646311, 0.05952424],\n       [0.30868834, 0.35676073, 0.14438719, 0.31659253, 0.11178633,\n        0.8283392 , 0.64568121, 0.85839221, 0.5977458 , 0.77382019]])"
     },
     "execution_count": 38,
     "metadata": {},
     "output_type": "execute_result"
    }
   ],
   "source": [
    "matrix = np.random.random((10, 10))\n",
    "matrix - matrix.mean(axis=1, keepdims=True)\n",
    "matrix"
   ],
   "metadata": {
    "collapsed": false,
    "ExecuteTime": {
     "end_time": "2023-09-30T08:17:45.616557Z",
     "start_time": "2023-09-30T08:17:45.610102Z"
    }
   }
  },
  {
   "cell_type": "raw",
   "source": [
    "11. Создать матрицу случайных чисел размера 10 на 10 и отнять медиану по столбцам из каждого элемента столбца"
   ],
   "metadata": {
    "collapsed": false
   }
  },
  {
   "cell_type": "code",
   "execution_count": 40,
   "outputs": [
    {
     "data": {
      "text/plain": "array([[0.98984649, 0.49051037, 0.29829717, 0.35716092, 0.3666411 ,\n        0.70549203, 0.76525171, 0.12646182, 0.75733613, 0.89472513],\n       [0.47502115, 0.75324768, 0.28736575, 0.96444495, 0.08475518,\n        0.40029788, 0.52760542, 0.2973521 , 0.29352709, 0.90328935],\n       [0.70500088, 0.32490116, 0.76073138, 0.93881013, 0.21050328,\n        0.42437628, 0.30560279, 0.8409756 , 0.22960748, 0.57132771],\n       [0.55095305, 0.61935713, 0.48127461, 0.18429386, 0.71287595,\n        0.02401582, 0.09337999, 0.19013899, 0.18619791, 0.29072363],\n       [0.87309876, 0.69224481, 0.02585762, 0.55746841, 0.45063132,\n        0.80934197, 0.14641858, 0.32682294, 0.50465696, 0.21852247],\n       [0.72985751, 0.18991428, 0.80768562, 0.37192953, 0.3662858 ,\n        0.90737566, 0.56634686, 0.60565106, 0.77302795, 0.67176283],\n       [0.84205334, 0.78844362, 0.20174676, 0.35681012, 0.34624906,\n        0.70547365, 0.76646698, 0.64094988, 0.12976579, 0.56455678],\n       [0.76023501, 0.25956195, 0.25544173, 0.52731665, 0.12731029,\n        0.48333204, 0.04955968, 0.76326049, 0.95232451, 0.37554657],\n       [0.94727373, 0.90776192, 0.9527627 , 0.01757787, 0.2343315 ,\n        0.23308243, 0.95422504, 0.98895756, 0.21358693, 0.04192984],\n       [0.04298903, 0.46060349, 0.11088869, 0.49438575, 0.06973014,\n        0.64657957, 0.04318348, 0.80429349, 0.49746225, 0.51574833]])"
     },
     "execution_count": 40,
     "metadata": {},
     "output_type": "execute_result"
    }
   ],
   "source": [
    "matrix = np.random.random((10, 10))\n",
    "matrix - np.median(matrix, axis=0, keepdims=True)\n",
    "matrix"
   ],
   "metadata": {
    "collapsed": false,
    "ExecuteTime": {
     "end_time": "2023-09-30T08:21:21.652580Z",
     "start_time": "2023-09-30T08:21:21.647067Z"
    }
   }
  },
  {
   "cell_type": "raw",
   "source": [
    "12. Создать матрицу случайных чисел 5x5. Добавить к ней столбецы максимумов и минимумов по строкам. Получится матрица 5x7"
   ],
   "metadata": {
    "collapsed": false
   }
  },
  {
   "cell_type": "code",
   "execution_count": 43,
   "outputs": [
    {
     "name": "stdout",
     "output_type": "stream",
     "text": [
      "[[0.01214889 0.52337612 0.53656063 0.85033281 0.82687396 0.85033281\n",
      "  0.01214889]\n",
      " [0.54990187 0.56640807 0.82523078 0.09124619 0.26248989 0.82523078\n",
      "  0.09124619]\n",
      " [0.89525411 0.14322292 0.46725402 0.80076658 0.4369967  0.89525411\n",
      "  0.14322292]\n",
      " [0.31720917 0.54414509 0.77895874 0.8815335  0.13120388 0.8815335\n",
      "  0.13120388]\n",
      " [0.60614139 0.91161271 0.26982348 0.98425927 0.27606304 0.98425927\n",
      "  0.26982348]]\n",
      "(5, 7)\n"
     ]
    }
   ],
   "source": [
    "matrix = np.random.random((5, 5))\n",
    "matrix = np.hstack(\n",
    "    (matrix, matrix.max(axis=1, keepdims=True), matrix.min(axis=1, keepdims=True))\n",
    ")\n",
    "\n",
    "print(matrix)\n",
    "print(matrix.shape)"
   ],
   "metadata": {
    "collapsed": false,
    "ExecuteTime": {
     "end_time": "2023-09-30T08:23:12.266813Z",
     "start_time": "2023-09-30T08:23:12.263247Z"
    }
   }
  },
  {
   "cell_type": "raw",
   "source": [
    "13. Вектор чисел от 1 до 51 преобразовать в вектор нечетных чисел и в вектор четных чисел, поменять их размерности, чтобы получились две матрица. Найти произведение этих матриц. Найти обратную матрицу эётого произведения."
   ],
   "metadata": {
    "collapsed": false
   }
  },
  {
   "cell_type": "code",
   "execution_count": 53,
   "outputs": [
    {
     "name": "stdout",
     "output_type": "stream",
     "text": [
      "Четная матрица:\n",
      "[[ 2  4  6  8 10]\n",
      " [12 14 16 18 20]\n",
      " [22 24 26 28 30]\n",
      " [32 34 36 38 40]\n",
      " [42 44 46 48 50]]\n",
      "Нечетная матрица:\n",
      "[[ 1  3  5  7  9]\n",
      " [11 13 15 17 19]\n",
      " [21 23 25 27 29]\n",
      " [31 33 35 37 39]\n",
      " [41 43 45 47 49]]\n",
      "Произведение матриц:\n",
      "[[ 830  890  950 1010 1070]\n",
      " [1880 2040 2200 2360 2520]\n",
      " [2930 3190 3450 3710 3970]\n",
      " [3980 4340 4700 5060 5420]\n",
      " [5030 5490 5950 6410 6870]]\n",
      "Обратная матрица:\n",
      "[[ 1.97032484e+13 -1.01330992e+14  1.68884986e+14 -1.12589991e+14\n",
      "   2.53327479e+13]\n",
      " [-4.01101842e+13  1.66070236e+14 -2.43944980e+14  1.50119988e+14\n",
      "  -3.21350598e+13]\n",
      " [ 2.11106233e+13 -2.81474977e+13 -0.00000000e+00 -0.00000000e+00\n",
      "   7.03687442e+12]\n",
      " [-7.03687442e+11 -3.65917470e+13  5.62949953e+13  0.00000000e+00\n",
      "  -1.89995609e+13]\n",
      " [ 5.20833333e-04 -0.00000000e+00  1.87649984e+13 -3.75299969e+13\n",
      "   1.87649984e+13]]\n"
     ]
    }
   ],
   "source": [
    "matrix = np.arange(1, 51)\n",
    "evenMatrix = matrix[matrix % 2 == 0].reshape(5, 5)\n",
    "oddMatrix = matrix[matrix % 2 == 1].reshape(5, 5)\n",
    "\n",
    "print(f'Четная матрица:\\n{evenMatrix}')\n",
    "print(f'Нечетная матрица:\\n{oddMatrix}')\n",
    "\n",
    "multipleMatrix = evenMatrix @ oddMatrix\n",
    "\n",
    "print(f'Произведение матриц:\\n{multipleMatrix}')\n",
    "print(f'Обратная матрица:\\n{np.linalg.inv(multipleMatrix)}')\n"
   ],
   "metadata": {
    "collapsed": false,
    "ExecuteTime": {
     "end_time": "2023-09-30T08:30:31.409317Z",
     "start_time": "2023-09-30T08:30:31.384623Z"
    }
   }
  },
  {
   "cell_type": "raw",
   "source": [
    "14. Создать 8x8 матрицу и заполнить её в шахматном порядке нулями и единицами"
   ],
   "metadata": {
    "collapsed": false
   }
  },
  {
   "cell_type": "code",
   "execution_count": 57,
   "outputs": [
    {
     "data": {
      "text/plain": "array([[0, 1, 0, 1, 0, 1, 0, 1],\n       [1, 0, 1, 0, 1, 0, 1, 0],\n       [0, 1, 0, 1, 0, 1, 0, 1],\n       [1, 0, 1, 0, 1, 0, 1, 0],\n       [0, 1, 0, 1, 0, 1, 0, 1],\n       [1, 0, 1, 0, 1, 0, 1, 0],\n       [0, 1, 0, 1, 0, 1, 0, 1],\n       [1, 0, 1, 0, 1, 0, 1, 0]])"
     },
     "execution_count": 57,
     "metadata": {},
     "output_type": "execute_result"
    }
   ],
   "source": [
    "chessboard_tile = np.array([[0, 1], [1, 0]])\n",
    "np.tile(chessboard_tile, (4, 4))"
   ],
   "metadata": {
    "collapsed": false,
    "ExecuteTime": {
     "end_time": "2023-09-30T08:36:50.283797Z",
     "start_time": "2023-09-30T08:36:50.279178Z"
    }
   }
  }
 ],
 "metadata": {
  "kernelspec": {
   "display_name": "Python 3",
   "language": "python",
   "name": "python3"
  },
  "language_info": {
   "codemirror_mode": {
    "name": "ipython",
    "version": 2
   },
   "file_extension": ".py",
   "mimetype": "text/x-python",
   "name": "python",
   "nbconvert_exporter": "python",
   "pygments_lexer": "ipython2",
   "version": "2.7.6"
  }
 },
 "nbformat": 4,
 "nbformat_minor": 0
}
