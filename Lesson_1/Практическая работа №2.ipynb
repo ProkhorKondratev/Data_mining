{
 "cells": [
  {
   "cell_type": "code",
   "execution_count": 85,
   "outputs": [
    {
     "data": {
      "text/plain": "'2.1.1'"
     },
     "execution_count": 85,
     "metadata": {},
     "output_type": "execute_result"
    }
   ],
   "source": [
    "import pandas as pd\n",
    "pd.__version__"
   ],
   "metadata": {
    "collapsed": false,
    "ExecuteTime": {
     "end_time": "2023-09-30T09:45:36.871527Z",
     "start_time": "2023-09-30T09:45:36.868690Z"
    }
   }
  },
  {
   "cell_type": "code",
   "execution_count": 86,
   "outputs": [
    {
     "data": {
      "text/plain": "   age          workclass  fnlwgt   education  education.num  \\\n0   39          State-gov   77516   Bachelors             13   \n1   50   Self-emp-not-inc   83311   Bachelors             13   \n2   38            Private  215646     HS-grad              9   \n3   53            Private  234721        11th              7   \n4   28            Private  338409   Bachelors             13   \n\n        marital.status          occupation    relationship    race      sex  \\\n0        Never-married        Adm-clerical   Not-in-family   White     Male   \n1   Married-civ-spouse     Exec-managerial         Husband   White     Male   \n2             Divorced   Handlers-cleaners   Not-in-family   White     Male   \n3   Married-civ-spouse   Handlers-cleaners         Husband   Black     Male   \n4   Married-civ-spouse      Prof-specialty            Wife   Black   Female   \n\n   capital.gain  capital.loss  hours.per.week  native.country  income  \n0          2174             0              40   United-States   <=50K  \n1             0             0              13   United-States   <=50K  \n2             0             0              40   United-States   <=50K  \n3             0             0              40   United-States   <=50K  \n4             0             0              40            Cuba   <=50K  ",
      "text/html": "<div>\n<style scoped>\n    .dataframe tbody tr th:only-of-type {\n        vertical-align: middle;\n    }\n\n    .dataframe tbody tr th {\n        vertical-align: top;\n    }\n\n    .dataframe thead th {\n        text-align: right;\n    }\n</style>\n<table border=\"1\" class=\"dataframe\">\n  <thead>\n    <tr style=\"text-align: right;\">\n      <th></th>\n      <th>age</th>\n      <th>workclass</th>\n      <th>fnlwgt</th>\n      <th>education</th>\n      <th>education.num</th>\n      <th>marital.status</th>\n      <th>occupation</th>\n      <th>relationship</th>\n      <th>race</th>\n      <th>sex</th>\n      <th>capital.gain</th>\n      <th>capital.loss</th>\n      <th>hours.per.week</th>\n      <th>native.country</th>\n      <th>income</th>\n    </tr>\n  </thead>\n  <tbody>\n    <tr>\n      <th>0</th>\n      <td>39</td>\n      <td>State-gov</td>\n      <td>77516</td>\n      <td>Bachelors</td>\n      <td>13</td>\n      <td>Never-married</td>\n      <td>Adm-clerical</td>\n      <td>Not-in-family</td>\n      <td>White</td>\n      <td>Male</td>\n      <td>2174</td>\n      <td>0</td>\n      <td>40</td>\n      <td>United-States</td>\n      <td>&lt;=50K</td>\n    </tr>\n    <tr>\n      <th>1</th>\n      <td>50</td>\n      <td>Self-emp-not-inc</td>\n      <td>83311</td>\n      <td>Bachelors</td>\n      <td>13</td>\n      <td>Married-civ-spouse</td>\n      <td>Exec-managerial</td>\n      <td>Husband</td>\n      <td>White</td>\n      <td>Male</td>\n      <td>0</td>\n      <td>0</td>\n      <td>13</td>\n      <td>United-States</td>\n      <td>&lt;=50K</td>\n    </tr>\n    <tr>\n      <th>2</th>\n      <td>38</td>\n      <td>Private</td>\n      <td>215646</td>\n      <td>HS-grad</td>\n      <td>9</td>\n      <td>Divorced</td>\n      <td>Handlers-cleaners</td>\n      <td>Not-in-family</td>\n      <td>White</td>\n      <td>Male</td>\n      <td>0</td>\n      <td>0</td>\n      <td>40</td>\n      <td>United-States</td>\n      <td>&lt;=50K</td>\n    </tr>\n    <tr>\n      <th>3</th>\n      <td>53</td>\n      <td>Private</td>\n      <td>234721</td>\n      <td>11th</td>\n      <td>7</td>\n      <td>Married-civ-spouse</td>\n      <td>Handlers-cleaners</td>\n      <td>Husband</td>\n      <td>Black</td>\n      <td>Male</td>\n      <td>0</td>\n      <td>0</td>\n      <td>40</td>\n      <td>United-States</td>\n      <td>&lt;=50K</td>\n    </tr>\n    <tr>\n      <th>4</th>\n      <td>28</td>\n      <td>Private</td>\n      <td>338409</td>\n      <td>Bachelors</td>\n      <td>13</td>\n      <td>Married-civ-spouse</td>\n      <td>Prof-specialty</td>\n      <td>Wife</td>\n      <td>Black</td>\n      <td>Female</td>\n      <td>0</td>\n      <td>0</td>\n      <td>40</td>\n      <td>Cuba</td>\n      <td>&lt;=50K</td>\n    </tr>\n  </tbody>\n</table>\n</div>"
     },
     "execution_count": 86,
     "metadata": {},
     "output_type": "execute_result"
    }
   ],
   "source": [
    "columns='age,workclass,fnlwgt,education,education.num,marital.status,occupation,relationship,race,sex,capital.gain,capital.loss,hours.per.week,native.country,income'.split(',')\n",
    "df = pd.read_csv('https://archive.ics.uci.edu/ml/machine-learning-databases/adult/adult.data', na_values=' ?', names=columns)\n",
    "df.head()"
   ],
   "metadata": {
    "collapsed": false,
    "ExecuteTime": {
     "end_time": "2023-09-30T09:45:48.933036Z",
     "start_time": "2023-09-30T09:45:37.876817Z"
    }
   }
  },
  {
   "cell_type": "raw",
   "source": [
    "1. Выведите последние 10 элеметнов датасета"
   ],
   "metadata": {
    "collapsed": false
   }
  },
  {
   "cell_type": "code",
   "execution_count": 87,
   "outputs": [
    {
     "data": {
      "text/plain": "       age      workclass  fnlwgt      education  education.num  \\\n32551   32        Private   34066           10th              6   \n32552   43        Private   84661      Assoc-voc             11   \n32553   32        Private  116138        Masters             14   \n32554   53        Private  321865        Masters             14   \n32555   22        Private  310152   Some-college             10   \n32556   27        Private  257302     Assoc-acdm             12   \n32557   40        Private  154374        HS-grad              9   \n32558   58        Private  151910        HS-grad              9   \n32559   22        Private  201490        HS-grad              9   \n32560   52   Self-emp-inc  287927        HS-grad              9   \n\n            marital.status          occupation    relationship  \\\n32551   Married-civ-spouse   Handlers-cleaners         Husband   \n32552   Married-civ-spouse               Sales         Husband   \n32553        Never-married        Tech-support   Not-in-family   \n32554   Married-civ-spouse     Exec-managerial         Husband   \n32555        Never-married     Protective-serv   Not-in-family   \n32556   Married-civ-spouse        Tech-support            Wife   \n32557   Married-civ-spouse   Machine-op-inspct         Husband   \n32558              Widowed        Adm-clerical       Unmarried   \n32559        Never-married        Adm-clerical       Own-child   \n32560   Married-civ-spouse     Exec-managerial            Wife   \n\n                      race      sex  capital.gain  capital.loss  \\\n32551   Amer-Indian-Eskimo     Male             0             0   \n32552                White     Male             0             0   \n32553   Asian-Pac-Islander     Male             0             0   \n32554                White     Male             0             0   \n32555                White     Male             0             0   \n32556                White   Female             0             0   \n32557                White     Male             0             0   \n32558                White   Female             0             0   \n32559                White     Male             0             0   \n32560                White   Female         15024             0   \n\n       hours.per.week  native.country  income  \n32551              40   United-States   <=50K  \n32552              45   United-States   <=50K  \n32553              11          Taiwan   <=50K  \n32554              40   United-States    >50K  \n32555              40   United-States   <=50K  \n32556              38   United-States   <=50K  \n32557              40   United-States    >50K  \n32558              40   United-States   <=50K  \n32559              20   United-States   <=50K  \n32560              40   United-States    >50K  ",
      "text/html": "<div>\n<style scoped>\n    .dataframe tbody tr th:only-of-type {\n        vertical-align: middle;\n    }\n\n    .dataframe tbody tr th {\n        vertical-align: top;\n    }\n\n    .dataframe thead th {\n        text-align: right;\n    }\n</style>\n<table border=\"1\" class=\"dataframe\">\n  <thead>\n    <tr style=\"text-align: right;\">\n      <th></th>\n      <th>age</th>\n      <th>workclass</th>\n      <th>fnlwgt</th>\n      <th>education</th>\n      <th>education.num</th>\n      <th>marital.status</th>\n      <th>occupation</th>\n      <th>relationship</th>\n      <th>race</th>\n      <th>sex</th>\n      <th>capital.gain</th>\n      <th>capital.loss</th>\n      <th>hours.per.week</th>\n      <th>native.country</th>\n      <th>income</th>\n    </tr>\n  </thead>\n  <tbody>\n    <tr>\n      <th>32551</th>\n      <td>32</td>\n      <td>Private</td>\n      <td>34066</td>\n      <td>10th</td>\n      <td>6</td>\n      <td>Married-civ-spouse</td>\n      <td>Handlers-cleaners</td>\n      <td>Husband</td>\n      <td>Amer-Indian-Eskimo</td>\n      <td>Male</td>\n      <td>0</td>\n      <td>0</td>\n      <td>40</td>\n      <td>United-States</td>\n      <td>&lt;=50K</td>\n    </tr>\n    <tr>\n      <th>32552</th>\n      <td>43</td>\n      <td>Private</td>\n      <td>84661</td>\n      <td>Assoc-voc</td>\n      <td>11</td>\n      <td>Married-civ-spouse</td>\n      <td>Sales</td>\n      <td>Husband</td>\n      <td>White</td>\n      <td>Male</td>\n      <td>0</td>\n      <td>0</td>\n      <td>45</td>\n      <td>United-States</td>\n      <td>&lt;=50K</td>\n    </tr>\n    <tr>\n      <th>32553</th>\n      <td>32</td>\n      <td>Private</td>\n      <td>116138</td>\n      <td>Masters</td>\n      <td>14</td>\n      <td>Never-married</td>\n      <td>Tech-support</td>\n      <td>Not-in-family</td>\n      <td>Asian-Pac-Islander</td>\n      <td>Male</td>\n      <td>0</td>\n      <td>0</td>\n      <td>11</td>\n      <td>Taiwan</td>\n      <td>&lt;=50K</td>\n    </tr>\n    <tr>\n      <th>32554</th>\n      <td>53</td>\n      <td>Private</td>\n      <td>321865</td>\n      <td>Masters</td>\n      <td>14</td>\n      <td>Married-civ-spouse</td>\n      <td>Exec-managerial</td>\n      <td>Husband</td>\n      <td>White</td>\n      <td>Male</td>\n      <td>0</td>\n      <td>0</td>\n      <td>40</td>\n      <td>United-States</td>\n      <td>&gt;50K</td>\n    </tr>\n    <tr>\n      <th>32555</th>\n      <td>22</td>\n      <td>Private</td>\n      <td>310152</td>\n      <td>Some-college</td>\n      <td>10</td>\n      <td>Never-married</td>\n      <td>Protective-serv</td>\n      <td>Not-in-family</td>\n      <td>White</td>\n      <td>Male</td>\n      <td>0</td>\n      <td>0</td>\n      <td>40</td>\n      <td>United-States</td>\n      <td>&lt;=50K</td>\n    </tr>\n    <tr>\n      <th>32556</th>\n      <td>27</td>\n      <td>Private</td>\n      <td>257302</td>\n      <td>Assoc-acdm</td>\n      <td>12</td>\n      <td>Married-civ-spouse</td>\n      <td>Tech-support</td>\n      <td>Wife</td>\n      <td>White</td>\n      <td>Female</td>\n      <td>0</td>\n      <td>0</td>\n      <td>38</td>\n      <td>United-States</td>\n      <td>&lt;=50K</td>\n    </tr>\n    <tr>\n      <th>32557</th>\n      <td>40</td>\n      <td>Private</td>\n      <td>154374</td>\n      <td>HS-grad</td>\n      <td>9</td>\n      <td>Married-civ-spouse</td>\n      <td>Machine-op-inspct</td>\n      <td>Husband</td>\n      <td>White</td>\n      <td>Male</td>\n      <td>0</td>\n      <td>0</td>\n      <td>40</td>\n      <td>United-States</td>\n      <td>&gt;50K</td>\n    </tr>\n    <tr>\n      <th>32558</th>\n      <td>58</td>\n      <td>Private</td>\n      <td>151910</td>\n      <td>HS-grad</td>\n      <td>9</td>\n      <td>Widowed</td>\n      <td>Adm-clerical</td>\n      <td>Unmarried</td>\n      <td>White</td>\n      <td>Female</td>\n      <td>0</td>\n      <td>0</td>\n      <td>40</td>\n      <td>United-States</td>\n      <td>&lt;=50K</td>\n    </tr>\n    <tr>\n      <th>32559</th>\n      <td>22</td>\n      <td>Private</td>\n      <td>201490</td>\n      <td>HS-grad</td>\n      <td>9</td>\n      <td>Never-married</td>\n      <td>Adm-clerical</td>\n      <td>Own-child</td>\n      <td>White</td>\n      <td>Male</td>\n      <td>0</td>\n      <td>0</td>\n      <td>20</td>\n      <td>United-States</td>\n      <td>&lt;=50K</td>\n    </tr>\n    <tr>\n      <th>32560</th>\n      <td>52</td>\n      <td>Self-emp-inc</td>\n      <td>287927</td>\n      <td>HS-grad</td>\n      <td>9</td>\n      <td>Married-civ-spouse</td>\n      <td>Exec-managerial</td>\n      <td>Wife</td>\n      <td>White</td>\n      <td>Female</td>\n      <td>15024</td>\n      <td>0</td>\n      <td>40</td>\n      <td>United-States</td>\n      <td>&gt;50K</td>\n    </tr>\n  </tbody>\n</table>\n</div>"
     },
     "execution_count": 87,
     "metadata": {},
     "output_type": "execute_result"
    }
   ],
   "source": [
    "df.tail(10)"
   ],
   "metadata": {
    "collapsed": false,
    "ExecuteTime": {
     "end_time": "2023-09-30T09:45:52.561396Z",
     "start_time": "2023-09-30T09:45:52.548656Z"
    }
   }
  },
  {
   "cell_type": "raw",
   "source": [
    "2. Сколько колонок и сколько строк в этом датасете?"
   ],
   "metadata": {
    "collapsed": false
   }
  },
  {
   "cell_type": "code",
   "execution_count": 88,
   "outputs": [
    {
     "name": "stdout",
     "output_type": "stream",
     "text": [
      "Колонок: 15, строк: 32561\n"
     ]
    }
   ],
   "source": [
    "print(f'Колонок: {df.shape[1]}, строк: {df.shape[0]}')"
   ],
   "metadata": {
    "collapsed": false,
    "ExecuteTime": {
     "end_time": "2023-09-30T09:45:54.491316Z",
     "start_time": "2023-09-30T09:45:54.482102Z"
    }
   }
  },
  {
   "cell_type": "raw",
   "source": [
    "3. Какие типы данных у элементов этого датасета?"
   ],
   "metadata": {
    "collapsed": false
   }
  },
  {
   "cell_type": "code",
   "execution_count": 91,
   "outputs": [
    {
     "data": {
      "text/plain": "age                int64\nworkclass         object\nfnlwgt             int64\neducation         object\neducation.num      int64\nmarital.status    object\noccupation        object\nrelationship      object\nrace              object\nsex               object\ncapital.gain       int64\ncapital.loss       int64\nhours.per.week     int64\nnative.country    object\nincome            object\ndtype: object"
     },
     "execution_count": 91,
     "metadata": {},
     "output_type": "execute_result"
    }
   ],
   "source": [
    "df.dtypes"
   ],
   "metadata": {
    "collapsed": false,
    "ExecuteTime": {
     "end_time": "2023-09-30T09:46:04.459907Z",
     "start_time": "2023-09-30T09:46:04.450566Z"
    }
   }
  },
  {
   "cell_type": "raw",
   "source": [
    "4. Какие признаки имеют пропуски?"
   ],
   "metadata": {
    "collapsed": false
   }
  },
  {
   "cell_type": "code",
   "execution_count": 92,
   "outputs": [
    {
     "data": {
      "text/plain": "age                  0\nworkclass         1836\nfnlwgt               0\neducation            0\neducation.num        0\nmarital.status       0\noccupation        1843\nrelationship         0\nrace                 0\nsex                  0\ncapital.gain         0\ncapital.loss         0\nhours.per.week       0\nnative.country     583\nincome               0\ndtype: int64"
     },
     "execution_count": 92,
     "metadata": {},
     "output_type": "execute_result"
    }
   ],
   "source": [
    "df.isnull().sum()"
   ],
   "metadata": {
    "collapsed": false,
    "ExecuteTime": {
     "end_time": "2023-09-30T09:46:06.749013Z",
     "start_time": "2023-09-30T09:46:06.744999Z"
    }
   }
  },
  {
   "cell_type": "raw",
   "source": [
    "5. Как вы думаете, с чем связаны пропуски этих значение. Напишите развернутый ответ в ячейке ниже."
   ],
   "metadata": {
    "collapsed": false
   }
  },
  {
   "cell_type": "raw",
   "source": [
    "Workclass и occupation показывают класс и род деятельности. Причины отсутствия данных в этих колонках могут быть самые разные, вот некоторые из них:\n",
    "- человек не работает\n",
    "- человек не хочет раскрывать свою деятельность\n",
    "- человек не знает, что писать\n",
    "- человек занимается неофициальной деятельностью (находится в \"серой\" зоне)\n",
    "- техническая ошибка при сборе данных\n",
    "\n",
    "native.country показывает страну происхождения. Причины отсутствия данных в этой колонке могут быть такие:\n",
    "- человек не хочет раскрывать свою страну происхождения\n",
    "- человек не знает своей страны происхождения\n",
    "- человек не имеет гражданства\n",
    "- техническая ошибка при сборе данных"
   ],
   "metadata": {
    "collapsed": false
   }
  },
  {
   "cell_type": "raw",
   "source": [
    "6. Какие и сколько различных рабочих классов workclass представлено в выборке?"
   ],
   "metadata": {
    "collapsed": false
   }
  },
  {
   "cell_type": "code",
   "execution_count": 94,
   "outputs": [
    {
     "data": {
      "text/plain": "workclass\n Private             22696\n Self-emp-not-inc     2541\n Local-gov            2093\n State-gov            1298\n Self-emp-inc         1116\n Federal-gov           960\n Without-pay            14\n Never-worked            7\nName: count, dtype: int64"
     },
     "execution_count": 94,
     "metadata": {},
     "output_type": "execute_result"
    }
   ],
   "source": [
    "df['workclass'].value_counts()"
   ],
   "metadata": {
    "collapsed": false,
    "ExecuteTime": {
     "end_time": "2023-09-30T09:46:17.179939Z",
     "start_time": "2023-09-30T09:46:17.170209Z"
    }
   }
  },
  {
   "cell_type": "raw",
   "source": [
    "7. Какой средний возраст женщин и мужчин?"
   ],
   "metadata": {
    "collapsed": false
   }
  },
  {
   "cell_type": "code",
   "execution_count": 95,
   "outputs": [
    {
     "data": {
      "text/plain": "sex\n Female    36\n Male      39\nName: age, dtype: int64"
     },
     "execution_count": 95,
     "metadata": {},
     "output_type": "execute_result"
    }
   ],
   "source": [
    "df.groupby('sex')['age'].mean().astype(int)\n"
   ],
   "metadata": {
    "collapsed": false,
    "ExecuteTime": {
     "end_time": "2023-09-30T09:46:19.852571Z",
     "start_time": "2023-09-30T09:46:19.841566Z"
    }
   }
  },
  {
   "cell_type": "raw",
   "source": [
    "8. Постройте гистограмму(bar) распределения образования людей (education)"
   ],
   "metadata": {
    "collapsed": false
   }
  },
  {
   "cell_type": "code",
   "execution_count": 96,
   "outputs": [
    {
     "data": {
      "text/plain": "<Axes: xlabel='education'>"
     },
     "execution_count": 96,
     "metadata": {},
     "output_type": "execute_result"
    },
    {
     "data": {
      "text/plain": "<Figure size 640x480 with 1 Axes>",
      "image/png": "[encoded data removed]"
     },
     "metadata": {},
     "output_type": "display_data"
    }
   ],
   "source": [
    "df['education'].value_counts().plot(kind='bar')"
   ],
   "metadata": {
    "collapsed": false,
    "ExecuteTime": {
     "end_time": "2023-09-30T09:46:24.325986Z",
     "start_time": "2023-09-30T09:46:24.243951Z"
    }
   }
  },
  {
   "cell_type": "raw",
   "source": [
    "9. Каковы средние значения и среднеквадратичные отклонения возраста тех, кто получает более 50K в год (признак income) и тех, кто получает менее 50K в год?"
   ],
   "metadata": {
    "collapsed": false
   }
  },
  {
   "cell_type": "code",
   "execution_count": 97,
   "outputs": [
    {
     "data": {
      "text/plain": "        mean  std\nincome           \n <=50K    36   14\n >50K     44   10",
      "text/html": "<div>\n<style scoped>\n    .dataframe tbody tr th:only-of-type {\n        vertical-align: middle;\n    }\n\n    .dataframe tbody tr th {\n        vertical-align: top;\n    }\n\n    .dataframe thead th {\n        text-align: right;\n    }\n</style>\n<table border=\"1\" class=\"dataframe\">\n  <thead>\n    <tr style=\"text-align: right;\">\n      <th></th>\n      <th>mean</th>\n      <th>std</th>\n    </tr>\n    <tr>\n      <th>income</th>\n      <th></th>\n      <th></th>\n    </tr>\n  </thead>\n  <tbody>\n    <tr>\n      <th>&lt;=50K</th>\n      <td>36</td>\n      <td>14</td>\n    </tr>\n    <tr>\n      <th>&gt;50K</th>\n      <td>44</td>\n      <td>10</td>\n    </tr>\n  </tbody>\n</table>\n</div>"
     },
     "execution_count": 97,
     "metadata": {},
     "output_type": "execute_result"
    }
   ],
   "source": [
    "df.groupby('income')['age'].agg(['mean', 'std']).astype(int)"
   ],
   "metadata": {
    "collapsed": false,
    "ExecuteTime": {
     "end_time": "2023-09-30T09:46:28.297375Z",
     "start_time": "2023-09-30T09:46:28.291859Z"
    }
   }
  },
  {
   "cell_type": "raw",
   "source": [
    "10. Правда ли, что люди, которые получают больше 50k, имеют как минимум высшее образование? (признак education - Bachelors, Prof-school, Assoc-acdm, Assoc-voc, Masters или Doctorate)"
   ],
   "metadata": {
    "collapsed": false
   }
  },
  {
   "cell_type": "code",
   "execution_count": 98,
   "outputs": [
    {
     "name": "stdout",
     "output_type": "stream",
     "text": [
      "Нет\n"
     ]
    }
   ],
   "source": [
    "truth = df[df['income'] == ' >50K']['education'].isin(['Bachelors', 'Prof-school', 'Assoc-acdm', 'Assoc-voc', 'Masters', 'Doctorate']).all()\n",
    "\n",
    "if truth:\n",
    "    print('Да')\n",
    "else:\n",
    "    print('Нет')"
   ],
   "metadata": {
    "collapsed": false,
    "ExecuteTime": {
     "end_time": "2023-09-30T09:46:31.913222Z",
     "start_time": "2023-09-30T09:46:31.902876Z"
    }
   }
  },
  {
   "cell_type": "raw",
   "source": [
    "11. Среди кого больше доля зарабатывающих много (>50K): среди женатых или холостых мужчин (признак marital-status)? Женатыми считаем тех, у кого marital-status начинается с Married (Married-civ-spouse, Married-spouse-absent или Married-AF-spouse), остальных считаем холостыми."
   ],
   "metadata": {
    "collapsed": false
   }
  },
  {
   "cell_type": "code",
   "execution_count": 99,
   "outputs": [
    {
     "name": "stdout",
     "output_type": "stream",
     "text": [
      "Среди холостых\n"
     ]
    }
   ],
   "source": [
    "married = df[df['marital.status'].str.startswith(' Married')]['income'].value_counts(normalize=True)[' >50K']\n",
    "\n",
    "if married > 0.5:\n",
    "    print('Среди женатых')\n",
    "else:\n",
    "    print('Среди холостых')\n"
   ],
   "metadata": {
    "collapsed": false,
    "ExecuteTime": {
     "end_time": "2023-09-30T09:46:39.411795Z",
     "start_time": "2023-09-30T09:46:39.391103Z"
    }
   }
  },
  {
   "cell_type": "raw",
   "source": [
    "12. Постройте сводную таблицу для отображения зависимостей среднего времени работы (hours.per.week) с доходом (income) для каждой страны (native.country)."
   ],
   "metadata": {
    "collapsed": false
   }
  },
  {
   "cell_type": "code",
   "execution_count": 100,
   "outputs": [
    {
     "data": {
      "text/plain": "                            hours.per.week           \nincome                               <=50K       >50K\nnative.country                                       \n Cambodia                        41.416667  40.000000\n Canada                          37.914634  45.641026\n China                           37.381818  38.900000\n Columbia                        38.684211  50.000000\n Cuba                            37.985714  42.440000\n Dominican-Republic              42.338235  47.000000\n Ecuador                         38.041667  48.750000\n El-Salvador                     36.030928  45.000000\n England                         40.483333  44.533333\n France                          41.058824  50.750000\n Germany                         39.139785  44.977273\n Greece                          41.809524  50.625000\n Guatemala                       39.360656  36.666667\n Haiti                           36.325000  42.750000\n Holand-Netherlands              40.000000        NaN\n Honduras                        34.333333  60.000000\n Hong                            39.142857  45.000000\n Hungary                         31.300000  50.000000\n India                           38.233333  46.475000\n Iran                            41.440000  47.500000\n Ireland                         40.947368  48.000000\n Italy                           39.625000  45.400000\n Jamaica                         38.239437  41.100000\n Japan                           41.000000  47.958333\n Laos                            40.375000  40.000000\n Mexico                          40.003279  46.575758\n Nicaragua                       36.093750  37.500000\n Outlying-US(Guam-USVI-etc)      41.857143        NaN\n Peru                            35.068966  40.000000\n Philippines                     38.065693  43.032787\n Poland                          38.166667  39.000000\n Portugal                        41.939394  41.500000\n Puerto-Rico                     38.470588  39.416667\n Scotland                        39.444444  46.666667\n South                           40.156250  51.437500\n Taiwan                          33.774194  46.800000\n Thailand                        42.866667  58.333333\n Trinadad&Tobago                 37.058824  40.000000\n United-States                   38.799127  45.505369\n Vietnam                         37.193548  39.200000\n Yugoslavia                      41.600000  49.500000",
      "text/html": "<div>\n<style scoped>\n    .dataframe tbody tr th:only-of-type {\n        vertical-align: middle;\n    }\n\n    .dataframe tbody tr th {\n        vertical-align: top;\n    }\n\n    .dataframe thead tr th {\n        text-align: left;\n    }\n\n    .dataframe thead tr:last-of-type th {\n        text-align: right;\n    }\n</style>\n<table border=\"1\" class=\"dataframe\">\n  <thead>\n    <tr>\n      <th></th>\n      <th colspan=\"2\" halign=\"left\">hours.per.week</th>\n    </tr>\n    <tr>\n      <th>income</th>\n      <th>&lt;=50K</th>\n      <th>&gt;50K</th>\n    </tr>\n    <tr>\n      <th>native.country</th>\n      <th></th>\n      <th></th>\n    </tr>\n  </thead>\n  <tbody>\n    <tr>\n      <th>Cambodia</th>\n      <td>41.416667</td>\n      <td>40.000000</td>\n    </tr>\n    <tr>\n      <th>Canada</th>\n      <td>37.914634</td>\n      <td>45.641026</td>\n    </tr>\n    <tr>\n      <th>China</th>\n      <td>37.381818</td>\n      <td>38.900000</td>\n    </tr>\n    <tr>\n      <th>Columbia</th>\n      <td>38.684211</td>\n      <td>50.000000</td>\n    </tr>\n    <tr>\n      <th>Cuba</th>\n      <td>37.985714</td>\n      <td>42.440000</td>\n    </tr>\n    <tr>\n      <th>Dominican-Republic</th>\n      <td>42.338235</td>\n      <td>47.000000</td>\n    </tr>\n    <tr>\n      <th>Ecuador</th>\n      <td>38.041667</td>\n      <td>48.750000</td>\n    </tr>\n    <tr>\n      <th>El-Salvador</th>\n      <td>36.030928</td>\n      <td>45.000000</td>\n    </tr>\n    <tr>\n      <th>England</th>\n      <td>40.483333</td>\n      <td>44.533333</td>\n    </tr>\n    <tr>\n      <th>France</th>\n      <td>41.058824</td>\n      <td>50.750000</td>\n    </tr>\n    <tr>\n      <th>Germany</th>\n      <td>39.139785</td>\n      <td>44.977273</td>\n    </tr>\n    <tr>\n      <th>Greece</th>\n      <td>41.809524</td>\n      <td>50.625000</td>\n    </tr>\n    <tr>\n      <th>Guatemala</th>\n      <td>39.360656</td>\n      <td>36.666667</td>\n    </tr>\n    <tr>\n      <th>Haiti</th>\n      <td>36.325000</td>\n      <td>42.750000</td>\n    </tr>\n    <tr>\n      <th>Holand-Netherlands</th>\n      <td>40.000000</td>\n      <td>NaN</td>\n    </tr>\n    <tr>\n      <th>Honduras</th>\n      <td>34.333333</td>\n      <td>60.000000</td>\n    </tr>\n    <tr>\n      <th>Hong</th>\n      <td>39.142857</td>\n      <td>45.000000</td>\n    </tr>\n    <tr>\n      <th>Hungary</th>\n      <td>31.300000</td>\n      <td>50.000000</td>\n    </tr>\n    <tr>\n      <th>India</th>\n      <td>38.233333</td>\n      <td>46.475000</td>\n    </tr>\n    <tr>\n      <th>Iran</th>\n      <td>41.440000</td>\n      <td>47.500000</td>\n    </tr>\n    <tr>\n      <th>Ireland</th>\n      <td>40.947368</td>\n      <td>48.000000</td>\n    </tr>\n    <tr>\n      <th>Italy</th>\n      <td>39.625000</td>\n      <td>45.400000</td>\n    </tr>\n    <tr>\n      <th>Jamaica</th>\n      <td>38.239437</td>\n      <td>41.100000</td>\n    </tr>\n    <tr>\n      <th>Japan</th>\n      <td>41.000000</td>\n      <td>47.958333</td>\n    </tr>\n    <tr>\n      <th>Laos</th>\n      <td>40.375000</td>\n      <td>40.000000</td>\n    </tr>\n    <tr>\n      <th>Mexico</th>\n      <td>40.003279</td>\n      <td>46.575758</td>\n    </tr>\n    <tr>\n      <th>Nicaragua</th>\n      <td>36.093750</td>\n      <td>37.500000</td>\n    </tr>\n    <tr>\n      <th>Outlying-US(Guam-USVI-etc)</th>\n      <td>41.857143</td>\n      <td>NaN</td>\n    </tr>\n    <tr>\n      <th>Peru</th>\n      <td>35.068966</td>\n      <td>40.000000</td>\n    </tr>\n    <tr>\n      <th>Philippines</th>\n      <td>38.065693</td>\n      <td>43.032787</td>\n    </tr>\n    <tr>\n      <th>Poland</th>\n      <td>38.166667</td>\n      <td>39.000000</td>\n    </tr>\n    <tr>\n      <th>Portugal</th>\n      <td>41.939394</td>\n      <td>41.500000</td>\n    </tr>\n    <tr>\n      <th>Puerto-Rico</th>\n      <td>38.470588</td>\n      <td>39.416667</td>\n    </tr>\n    <tr>\n      <th>Scotland</th>\n      <td>39.444444</td>\n      <td>46.666667</td>\n    </tr>\n    <tr>\n      <th>South</th>\n      <td>40.156250</td>\n      <td>51.437500</td>\n    </tr>\n    <tr>\n      <th>Taiwan</th>\n      <td>33.774194</td>\n      <td>46.800000</td>\n    </tr>\n    <tr>\n      <th>Thailand</th>\n      <td>42.866667</td>\n      <td>58.333333</td>\n    </tr>\n    <tr>\n      <th>Trinadad&amp;Tobago</th>\n      <td>37.058824</td>\n      <td>40.000000</td>\n    </tr>\n    <tr>\n      <th>United-States</th>\n      <td>38.799127</td>\n      <td>45.505369</td>\n    </tr>\n    <tr>\n      <th>Vietnam</th>\n      <td>37.193548</td>\n      <td>39.200000</td>\n    </tr>\n    <tr>\n      <th>Yugoslavia</th>\n      <td>41.600000</td>\n      <td>49.500000</td>\n    </tr>\n  </tbody>\n</table>\n</div>"
     },
     "execution_count": 100,
     "metadata": {},
     "output_type": "execute_result"
    }
   ],
   "source": [
    "df.pivot_table(['hours.per.week'], ['native.country'], ['income'], aggfunc='mean')"
   ],
   "metadata": {
    "collapsed": false,
    "ExecuteTime": {
     "end_time": "2023-09-30T09:46:41.010566Z",
     "start_time": "2023-09-30T09:46:41.000199Z"
    }
   }
  },
  {
   "cell_type": "raw",
   "source": [
    "14. Женщины из каких стран получают в среднем большую зарплату (>50K) чаще."
   ],
   "metadata": {
    "collapsed": false
   }
  },
  {
   "cell_type": "code",
   "execution_count": 103,
   "outputs": [
    {
     "name": "stdout",
     "output_type": "stream",
     "text": [
      "native.country\n",
      " United-States    1072\n",
      " Philippines        12\n",
      " Canada              9\n",
      " Germany             7\n",
      " England             6\n",
      "Name: income, dtype: int64\n",
      "Женщины из United-States получают в среднем большую зарплату (>50K) чаще\n"
     ]
    }
   ],
   "source": [
    "female_high_income = df[(df['sex'] == ' Female') & (df['income'] == ' >50K')]\n",
    "average_income_by_country = female_high_income.groupby('native.country')['income'].count().sort_values(ascending=False)\n",
    "country_with_highest_income = average_income_by_country.idxmax()\n",
    "\n",
    "print(average_income_by_country.head())\n",
    "print(f'Женщины из{country_with_highest_income} получают в среднем большую зарплату (>50K) чаще')\n"
   ],
   "metadata": {
    "collapsed": false,
    "ExecuteTime": {
     "end_time": "2023-09-30T09:47:13.148486Z",
     "start_time": "2023-09-30T09:47:13.145965Z"
    }
   }
  },
  {
   "cell_type": "raw",
   "source": [
    "15. Создайте случайную колонку - magic_salary, которую нужно будет вычислить следующим образом: если зарплата небольшая (<50K), тогда случайно выберите число из диапазона [0,50]. Если зарплата выше 50K тогда из диапазона [51, 200]. Посчитайте среднюю зарплату в час для групп людей с одни уровнем образования на основе нашей случайной колонки magic_salary"
   ],
   "metadata": {
    "collapsed": false
   }
  },
  {
   "cell_type": "code",
   "execution_count": 104,
   "outputs": [
    {
     "data": {
      "text/plain": "education\n 10th            30.679528\n 11th            28.898723\n 12th            32.681293\n 1st-4th         26.494048\n 5th-6th         28.669670\n 7th-8th         30.829721\n 9th             29.159533\n Assoc-acdm      49.612933\n Assoc-voc       49.758321\n Bachelors       65.673576\n Doctorate       98.234867\n HS-grad         40.427102\n Masters         80.153221\n Preschool       25.333333\n Prof-school     99.828125\n Some-college    43.473186\nName: magic_salary, dtype: float64"
     },
     "execution_count": 104,
     "metadata": {},
     "output_type": "execute_result"
    }
   ],
   "source": [
    "import numpy as np\n",
    "df['magic_salary'] = np.where(df['income'] == ' >50K', np.random.randint(51, 200, size=len(df)), np.random.randint(0, 50, size=len(df)))\n",
    "df.groupby('education')['magic_salary'].mean()"
   ],
   "metadata": {
    "collapsed": false,
    "ExecuteTime": {
     "end_time": "2023-09-30T09:47:23.766449Z",
     "start_time": "2023-09-30T09:47:23.761645Z"
    }
   }
  }
 ],
 "metadata": {
  "kernelspec": {
   "display_name": "Python 3",
   "language": "python",
   "name": "python3"
  },
  "language_info": {
   "codemirror_mode": {
    "name": "ipython",
    "version": 2
   },
   "file_extension": ".py",
   "mimetype": "text/x-python",
   "name": "python",
   "nbconvert_exporter": "python",
   "pygments_lexer": "ipython2",
   "version": "2.7.6"
  }
 },
 "nbformat": 4,
 "nbformat_minor": 0
}
