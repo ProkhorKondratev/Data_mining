{
  "cells": [
    {
      "cell_type": "markdown",
      "metadata": {
        "id": "2Xa7GSdoGCTU"
      },
      "source": [
        "# Применение методов интеллектуального анализа данных для прогностического моделирования с интеграцией визуализации пространственно-временных данных"
      ]
    },
    {
      "cell_type": "markdown",
      "metadata": {
        "id": "CJA47SaP42f5"
      },
      "source": [
        "# **Общая структура работы**\n",
        "\n"
      ]
    },
    {
      "cell_type": "markdown",
      "metadata": {
        "id": "nWXizLZxdzYX"
      },
      "source": [
        "\n",
        "\n",
        "### 1. Определение цели\n",
        "Определим, что мы хотим предсказать.\n",
        "\n",
        "### 2. Сбор и подготовка данных\n",
        "- **Сбор данных:** Поиск источников данных\n",
        "- **Предварительная обработка данных:** Очистка данных, заполнение пропущенных значений, нормализация данных.\n",
        "- **Разбиение на подвыборки:** Разделение данных на тренировочный, валидационный и тестовый наборы данных.\n",
        "\n",
        "### 3. Выбор функций и моделей\n",
        "- **Инженерия признаков:** Определение наиболее важных признаков.\n",
        "- **Выбор моделей:** Выбор моделей машинного обучения (например, линейная регрессия, случайный лес, градиентный бустинг, ARIMA, LSTM, NBeats, NHiTS  и т.д., подходящих для решения нашей задачи.\n",
        "\n",
        "### 4. Разработка аналитической базы\n",
        "- **Исследование данных:** Выбор и использование аналитических инструментов для анализа и визуализации данных.\n",
        "- **Интеграция с сервисами интерактивного картографирования или ГИС:** При необходимости работаем с географической информационной системой (ГИС) или  сервисами интерактивного картографирования (например, Folium) и анализа пространственных данных.\n",
        "\n",
        "### 5. Тренировка моделей\n",
        "- **Настройка гиперпараметров:** Оптимизация параметров моделей для улучшения результатов.\n",
        "- **Кросс-валидация:** Проверка стабильности моделей на различных подвыборках данных.\n",
        "- **Оценка производительности:** Использование метрик, таких как средняя абсолютная ошибка (MAE), средняя квадратичная ошибка (MSE) и т.д. для оценки производительности моделей.\n",
        "\n",
        "### 6. Проверка и оценка моделей\n",
        "- **Валидация моделей:** Проверим качество моделей на валидационном наборе данных.\n",
        "- **Тестирование моделей:** Финальное тестирование моделей на тестовом наборе данных.\n",
        "\n",
        "### 7. Развертывание и мониторинг\n",
        "- **Прототипирование приложения:** Создадим простое приложение или дэшборд для демонстрации работы модели.\n",
        "- **Развертывание моделей:** Сделаем лучшие модели доступными для использования в реальном времени.\n",
        "- **Мониторинг и обслуживание:** Регулярно контролируем модели на предмет ухудшения качества и обновления данных для обучения (**опционально**).\n",
        "\n",
        "### Инструменты и технологии:\n",
        "- **Язык программирования:** На Ваше усмотрение (например, Python).\n",
        "- **Библиотеки для машинного обучения:** На Ваше усмотрение (например, Scikit-learn, TensorFlow, PyTorch)\n"
      ]
    },
    {
      "cell_type": "markdown",
      "metadata": {
        "id": "Ccj8JUh53ke6"
      },
      "source": [
        "## Пример структуры проекта по предсказанию курсов валют по странам с использованием методов машинного и глубокого обучения\n",
        "\n"
      ]
    },
    {
      "cell_type": "markdown",
      "metadata": {
        "id": "yMISClFHdozs"
      },
      "source": [
        "Данный проект по предсказанию курсов валют по странам с использованием методов машинного обучения будет состоять из следующих шагов:\n",
        "\n",
        "### 1. Определение цели\n",
        "Определим, что мы хотим предсказать - курсы валют конкретных стран в будущем.\n",
        "\n",
        "### 2. Сбор и подготовка данных\n",
        "- **Сбор данных:** Найдем источники данных о курсах валют различных стран.\n",
        "\n",
        "    - Данные о курсах валют: https://fixer.io/\n",
        "    - Данные о влияющих факторах: https://cbonds.ru/api/reports/\n",
        "\n",
        "- **Предварительная обработка данных:** Очистим данные, заполним пропущенные значения, нормализуем данные.\n",
        "- **Разбиение на подвыборки:** Разделим данные на тренировочный, валидационный и тестовый наборы данных.\n",
        "\n",
        "### 3. Выбор функций и моделей\n",
        "- **Инженерия признаков:** Определим, какие данные будут являться наилучшими предикторами для предсказания курсов валют.\n",
        "\n",
        "Пример списка предикторов после анализа:\n",
        "\n",
        "- 1. **Экономические показатели**: Индикаторы, такие как инфляция, уровень безработицы, ВВП, могут влиять на курс валюты.\n",
        "\n",
        "- 2. **Мировые новости**: События на мировой сцене, такие как политические решения, войны, катастрофы, могут влиять на курс валюты. Этот признак сложнее использовать, так как требует анализа текстов.\n",
        "\n",
        "- 3. **Данные о торговле**: Объемы экспорта и импорта, а также баланс торговли могут влиять на курс валюты.\n",
        "\n",
        "- 4. **Финансовые данные**: Данные о процентных ставках, денежной массе, государственном долге также могут быть полезны.\n",
        " и т.д.\n",
        "\n",
        "- **Выбор модели:** Выберем подходящие модели машинного обучения (например, линейная регрессия, случайный лес, градиентный бустинг), подходящие для предсказания курсов валют.\n",
        "\n",
        "### 4. Разработка аналитической базы\n",
        "- **Исследование данных:** Используем аналитические инструменты для анализа и визуализации данных о курсах валют.\n",
        "- **Интеграция с сервисами интерактивного картографирования или ГИС:** При необходимости работаем с географической информационной системой (ГИС) или  сервисами интерактивного картографирования (например, Folium) и анализа пространственных данных.\n",
        "\n",
        "### 5. Тренировка моделей\n",
        "- **Настройка гиперпараметров:** Оптимизируем параметры модели для улучшения результатов.\n",
        "- **Кросс-валидация:** Проверяем стабильность модели на различных подвыборках данных.\n",
        "- **Оценка производительности:** Используем метрики, такие как средняя абсолютная ошибка (MAE), средняя квадратичная ошибка (MSE) для оценки производительности модели.\n",
        "\n",
        "### 6. Проверка и оценка модели\n",
        "- **Валидация модели:** Проверим качество модели на отложенном наборе данных для валидации.\n",
        "- **Тестирование модели:** Финальное тестирование модели на тестовом наборе данных.\n",
        "\n",
        "### 7. Развертывание и мониторинг\n",
        "- **Прототипирование приложения:** Создадим простое приложение или дэшборд для демонстрации работы модели и предсказания курсов валют.\n",
        "- **Развертывание модели:** Сделаем модель доступной для использования в реальном времени, чтобы предсказывать курсы валют.\n",
        "- **Мониторинг и обслуживание:** Регулярно контролируем модель на предмет ухудшения ее качества и обновления данных для обучения.\n",
        "\n",
        "### Инструменты и технологии:\n",
        "- **Язык программирования:** Python.\n",
        "- **Библиотеки для машинного обучения:** Scikit-learn, TensorFlow."
      ]
    },
    {
      "cell_type": "markdown",
      "metadata": {
        "id": "tBO-mJmgsA18"
      },
      "source": [
        "# **Примерный печень тем**\n"
      ]
    },
    {
      "cell_type": "markdown",
      "metadata": {
        "id": "ZCYpZXD4iSu9"
      },
      "source": [
        "**(Лучше выбрать свою тему, в зависимости от доступности данных в глобальной сети и удобства работы с ними)**"
      ]
    },
    {
      "cell_type": "markdown",
      "metadata": {
        "id": "kU5-loj4ds8e"
      },
      "source": [
        "\n",
        "\n",
        "\n",
        "\n",
        "1. **Прогнозирование климатических изменений**  \n",
        "Используйте исторические данные по климату и геоданные для создания моделей, которые могут предсказать изменения климата в различных регионах.\n",
        "\n",
        "2. **Прогнозирование урожайности сельскохозяйственных культур**  \n",
        "Обработка данных о погоде, типах почв и исторической урожайности для разработки прогностической модели, которая поможет аграриям планировать посевные площади и сорта культур.\n",
        "\n",
        "3. **Динамика цен на недвижимость**  \n",
        "Соедините геоданные с временными рядами цен на недвижимость, чтобы предсказать изменения цен в разных районах на основе экономических индикаторов и тенденций развития инфраструктуры.\n",
        "\n",
        "4. **Мониторинг и прогнозирование засух**  \n",
        "Создание модели, которая использует данные о погоде, влажности почвы и другие геоданные для предсказания возможных засух.\n",
        "\n",
        "5. **Анализ распространения болезней**  \n",
        "На основе данных о климате, населении и случаях заболевания создать модель для предсказания распространения инфекционных болезней.\n",
        "\n",
        "6. **Оценка риска наводнений**  \n",
        "Используйте геоданные и временные ряды осадков для оценки вероятности возникновения наводнений в различных районах.\n",
        "\n",
        "7. **Мониторинг дорожного трафика**  \n",
        "Разработка системы, которая использует данные GPS и другие геоспецифические данные для прогнозирования трафика и возможных заторов в реальном времени.\n",
        "\n",
        "8. **Анализ влияния городской застройки на окружающую среду**  \n",
        "Оцените, как городское разрастание влияет на местные экосистемы и климат, используя исторические и текущие геоданные.\n",
        "\n",
        "9. **Управление ресурсами водоснабжения**  \n",
        "Создайте систему предсказания для определения лучших местоположений для новых водозаборных станций в зависимости от прогнозируемых изменений климата и демографических данных.\n",
        "\n",
        "10. **Влияние погоды на возобновляемую энергетику**  \n",
        "Предсказание производительности солнечных панелей и ветровых турбин с использованием геоданных и временных рядов, связанных с погодными условиями.\n",
        "\n",
        "11. **Анализ распространения и предсказание природных катастроф**\n",
        "   - Моделирование и прогнозирование лесных пожаров.\n",
        "   - Анализ риска наводнений в уязвимых районах.\n",
        "\n",
        "12. **Умный город и планирование инфраструктуры**\n",
        "   - Прогнозирование трафика и оптимизация городских транспортных потоков.\n",
        "   - Разработка системы управления энергопотреблением на основе анализа потребления электроэнергии в городе.\n",
        "\n",
        "13. **Экологический мониторинг и управление**\n",
        "   - Отслеживание изменений покрова лесов и состояния растительности.\n",
        "   - Картирование и мониторинг загрязнения водоёмов.\n",
        "\n",
        "14. **Геологический анализ и поиск полезных ископаемых**\n",
        "   - Предсказание местоположений нахождения полезных ископаемых с помощью анализа геоданных.\n",
        "   - Моделирование изменений ландшафта в результате добычи ресурсов.\n",
        "\n",
        "15. **Исследование водных ресурсов**\n",
        "   - Мониторинг уровня загрязнения водных путей и контроль за его изменениями.\n",
        "   - Прогнозирование изменений гидрологии в ответ на изменения климата."
      ]
    },
    {
      "cell_type": "markdown",
      "metadata": {
        "id": "GCb6CrpIAjhr"
      },
      "source": [
        "# **Требования**\n",
        "\n",
        "\n",
        "\n",
        "\n",
        "\n"
      ]
    },
    {
      "cell_type": "markdown",
      "metadata": {
        "id": "NBojQGEgeDeQ"
      },
      "source": [
        "## Требования к источникам данных:\n",
        "Предпочтительно, чтобы все источники данных были динамическими. Хорошей практикой является получение данных по API, как это показано на примере выше.\n",
        "\n",
        "    - Данные о курсах валют: https://fixer.io/\n",
        "\n",
        ">\n",
        "\n",
        "\n",
        "    - Данные о влияющих факторах: https://cbonds.ru/api/reports/\n",
        "\n",
        "Из первого источника берется целевой набор данных, из второго признаки."
      ]
    },
    {
      "cell_type": "markdown",
      "metadata": {
        "id": "sEkCXd3LEcXD"
      },
      "source": [
        "## Требования к данным и визуализации:\n",
        "\n"
      ]
    },
    {
      "cell_type": "markdown",
      "metadata": {
        "id": "dlBYEoZnic3B"
      },
      "source": [
        "### **Данные обязательно должны иметь пространственную привязку(!)**\n"
      ]
    },
    {
      "cell_type": "markdown",
      "metadata": {
        "id": "3-jbpP6geHNq"
      },
      "source": [
        "Визуализация может быть выполнена в любой среде, позволяющей создавать тематическую карту с динамическим отображением данных по временным меткам, например в среде [Folium](https://python-visualization.github.io/folium/latest/user_guide.html)\n",
        "\n"
      ]
    },
    {
      "cell_type": "markdown",
      "metadata": {
        "id": "Eud3eNBgeIVk"
      },
      "source": [
        "### Пример №1:\n",
        "\n",
        "[Документация](https://python-visualization.github.io/folium/latest/user_guide/plugins/timestamped_geojson.html)"
      ]
    },
    {
      "cell_type": "code",
      "execution_count": null,
      "metadata": {
        "colab": {
          "base_uri": "https://localhost:8080/",
          "height": 808
        },
        "id": "aHmxzSZ93Rql",
        "outputId": "11a2782a-a23b-42b1-eff2-a844e396e539"
      },
      "outputs": [
        {
          "data": {
            "text/html": [
              "<div style=\"width:100%;\"><div style=\"position:relative;width:100%;height:0;padding-bottom:60%;\"><span style=\"color:#565656\">Make this Notebook Trusted to load map: File -> Trust Notebook</span><iframe srcdoc=\"&lt;!DOCTYPE html&gt;\n",
              "&lt;html&gt;\n",
              "&lt;head&gt;\n",
              "    \n",
              "    &lt;meta http-equiv=&quot;content-type&quot; content=&quot;text/html; charset=UTF-8&quot; /&gt;\n",
              "    \n",
              "        &lt;script&gt;\n",
              "            L_NO_TOUCH = false;\n",
              "            L_DISABLE_3D = false;\n",
              "        &lt;/script&gt;\n",
              "    \n",
              "    &lt;style&gt;html, body {width: 100%;height: 100%;margin: 0;padding: 0;}&lt;/style&gt;\n",
              "    &lt;style&gt;#map {position:absolute;top:0;bottom:0;right:0;left:0;}&lt;/style&gt;\n",
              "    &lt;script src=&quot;https://cdn.jsdelivr.net/npm/leaflet@1.9.3/dist/leaflet.js&quot;&gt;&lt;/script&gt;\n",
              "    &lt;script src=&quot;https://code.jquery.com/jquery-1.12.4.min.js&quot;&gt;&lt;/script&gt;\n",
              "    &lt;script src=&quot;https://cdn.jsdelivr.net/npm/bootstrap@5.2.2/dist/js/bootstrap.bundle.min.js&quot;&gt;&lt;/script&gt;\n",
              "    &lt;script src=&quot;https://cdnjs.cloudflare.com/ajax/libs/Leaflet.awesome-markers/2.0.2/leaflet.awesome-markers.js&quot;&gt;&lt;/script&gt;\n",
              "    &lt;link rel=&quot;stylesheet&quot; href=&quot;https://cdn.jsdelivr.net/npm/leaflet@1.9.3/dist/leaflet.css&quot;/&gt;\n",
              "    &lt;link rel=&quot;stylesheet&quot; href=&quot;https://cdn.jsdelivr.net/npm/bootstrap@5.2.2/dist/css/bootstrap.min.css&quot;/&gt;\n",
              "    &lt;link rel=&quot;stylesheet&quot; href=&quot;https://netdna.bootstrapcdn.com/bootstrap/3.0.0/css/bootstrap.min.css&quot;/&gt;\n",
              "    &lt;link rel=&quot;stylesheet&quot; href=&quot;https://cdn.jsdelivr.net/npm/@fortawesome/fontawesome-free@6.2.0/css/all.min.css&quot;/&gt;\n",
              "    &lt;link rel=&quot;stylesheet&quot; href=&quot;https://cdnjs.cloudflare.com/ajax/libs/Leaflet.awesome-markers/2.0.2/leaflet.awesome-markers.css&quot;/&gt;\n",
              "    &lt;link rel=&quot;stylesheet&quot; href=&quot;https://cdn.jsdelivr.net/gh/python-visualization/folium/folium/templates/leaflet.awesome.rotate.min.css&quot;/&gt;\n",
              "    \n",
              "            &lt;meta name=&quot;viewport&quot; content=&quot;width=device-width,\n",
              "                initial-scale=1.0, maximum-scale=1.0, user-scalable=no&quot; /&gt;\n",
              "            &lt;style&gt;\n",
              "                #map_137a21c6d6a7182276b92bc5cee8fac1 {\n",
              "                    position: relative;\n",
              "                    width: 100.0%;\n",
              "                    height: 100.0%;\n",
              "                    left: 0.0%;\n",
              "                    top: 0.0%;\n",
              "                }\n",
              "                .leaflet-container { font-size: 1rem; }\n",
              "            &lt;/style&gt;\n",
              "        \n",
              "    &lt;script src=&quot;https://cdnjs.cloudflare.com/ajax/libs/jquery/2.0.0/jquery.min.js&quot;&gt;&lt;/script&gt;\n",
              "    &lt;script src=&quot;https://cdnjs.cloudflare.com/ajax/libs/jqueryui/1.10.2/jquery-ui.min.js&quot;&gt;&lt;/script&gt;\n",
              "    &lt;script src=&quot;https://cdn.jsdelivr.net/npm/iso8601-js-period@0.2.1/iso8601.min.js&quot;&gt;&lt;/script&gt;\n",
              "    &lt;script src=&quot;https://cdn.jsdelivr.net/npm/leaflet-timedimension@1.1.1/dist/leaflet.timedimension.min.js&quot;&gt;&lt;/script&gt;\n",
              "    &lt;script src=&quot;https://cdnjs.cloudflare.com/ajax/libs/moment.js/2.18.1/moment.min.js&quot;&gt;&lt;/script&gt;\n",
              "    &lt;link rel=&quot;stylesheet&quot; href=&quot;https://cdnjs.cloudflare.com/ajax/libs/highlight.js/8.4/styles/default.min.css&quot;/&gt;\n",
              "    &lt;link rel=&quot;stylesheet&quot; href=&quot;https://cdn.jsdelivr.net/npm/leaflet-timedimension@1.1.1/dist/leaflet.timedimension.control.css&quot;/&gt;\n",
              "&lt;/head&gt;\n",
              "&lt;body&gt;\n",
              "    \n",
              "    \n",
              "            &lt;div class=&quot;folium-map&quot; id=&quot;map_137a21c6d6a7182276b92bc5cee8fac1&quot; &gt;&lt;/div&gt;\n",
              "        \n",
              "&lt;/body&gt;\n",
              "&lt;script&gt;\n",
              "    \n",
              "    \n",
              "            var map_137a21c6d6a7182276b92bc5cee8fac1 = L.map(\n",
              "                &quot;map_137a21c6d6a7182276b92bc5cee8fac1&quot;,\n",
              "                {\n",
              "                    center: [35.68159659061569, 139.76451516151428],\n",
              "                    crs: L.CRS.EPSG3857,\n",
              "                    zoom: 16,\n",
              "                    zoomControl: true,\n",
              "                    preferCanvas: false,\n",
              "                }\n",
              "            );\n",
              "\n",
              "            \n",
              "\n",
              "        \n",
              "    \n",
              "            var tile_layer_b67f15d829420231b016bd9e40126083 = L.tileLayer(\n",
              "                &quot;https://{s}.tile.openstreetmap.org/{z}/{x}/{y}.png&quot;,\n",
              "                {&quot;attribution&quot;: &quot;Data by \\u0026copy; \\u003ca target=\\&quot;_blank\\&quot; href=\\&quot;http://openstreetmap.org\\&quot;\\u003eOpenStreetMap\\u003c/a\\u003e, under \\u003ca target=\\&quot;_blank\\&quot; href=\\&quot;http://www.openstreetmap.org/copyright\\&quot;\\u003eODbL\\u003c/a\\u003e.&quot;, &quot;detectRetina&quot;: false, &quot;maxNativeZoom&quot;: 18, &quot;maxZoom&quot;: 18, &quot;minZoom&quot;: 0, &quot;noWrap&quot;: false, &quot;opacity&quot;: 1, &quot;subdomains&quot;: &quot;abc&quot;, &quot;tms&quot;: false}\n",
              "            ).addTo(map_137a21c6d6a7182276b92bc5cee8fac1);\n",
              "        \n",
              "    \n",
              "            L.Control.TimeDimensionCustom = L.Control.TimeDimension.extend({\n",
              "                _getDisplayDateFormat: function(date){\n",
              "                    var newdate = new moment(date);\n",
              "                    console.log(newdate)\n",
              "                    return newdate.format(&quot;YYYY-MM-DD HH:mm:ss&quot;);\n",
              "                }\n",
              "            });\n",
              "            map_137a21c6d6a7182276b92bc5cee8fac1.timeDimension = L.timeDimension(\n",
              "                {\n",
              "                    period: &quot;PT1M&quot;,\n",
              "                }\n",
              "            );\n",
              "            var timeDimensionControl = new L.Control.TimeDimensionCustom(\n",
              "                {&quot;autoPlay&quot;: true, &quot;loopButton&quot;: false, &quot;maxSpeed&quot;: 10, &quot;minSpeed&quot;: 0.1, &quot;playerOptions&quot;: {&quot;loop&quot;: true, &quot;startOver&quot;: true, &quot;transitionTime&quot;: 200}, &quot;position&quot;: &quot;bottomleft&quot;, &quot;speedSlider&quot;: true, &quot;timeSliderDragUpdate&quot;: false}\n",
              "            );\n",
              "            map_137a21c6d6a7182276b92bc5cee8fac1.addControl(this.timeDimensionControl);\n",
              "\n",
              "            var geoJsonLayer = L.geoJson({&quot;type&quot;: &quot;FeatureCollection&quot;, &quot;features&quot;: [{&quot;type&quot;: &quot;Feature&quot;, &quot;geometry&quot;: {&quot;type&quot;: &quot;LineString&quot;, &quot;coordinates&quot;: [[139.76451516151428, 35.68159659061569], [139.75964426994324, 35.682590062684206]]}, &quot;properties&quot;: {&quot;times&quot;: [&quot;2017-06-02T00:00:00&quot;, &quot;2017-06-02T00:10:00&quot;], &quot;style&quot;: {&quot;color&quot;: &quot;red&quot;, &quot;weight&quot;: 5}}}, {&quot;type&quot;: &quot;Feature&quot;, &quot;geometry&quot;: {&quot;type&quot;: &quot;LineString&quot;, &quot;coordinates&quot;: [[139.75964426994324, 35.682590062684206], [139.7575843334198, 35.679505030038506]]}, &quot;properties&quot;: {&quot;times&quot;: [&quot;2017-06-02T00:10:00&quot;, &quot;2017-06-02T00:20:00&quot;], &quot;style&quot;: {&quot;color&quot;: &quot;blue&quot;, &quot;weight&quot;: 5}}}, {&quot;type&quot;: &quot;Feature&quot;, &quot;geometry&quot;: {&quot;type&quot;: &quot;LineString&quot;, &quot;coordinates&quot;: [[139.7575843334198, 35.679505030038506], [139.76337790489197, 35.678040905014065]]}, &quot;properties&quot;: {&quot;times&quot;: [&quot;2017-06-02T00:20:00&quot;, &quot;2017-06-02T00:30:00&quot;], &quot;style&quot;: {&quot;color&quot;: &quot;green&quot;, &quot;weight&quot;: 15}}}, {&quot;type&quot;: &quot;Feature&quot;, &quot;geometry&quot;: {&quot;type&quot;: &quot;LineString&quot;, &quot;coordinates&quot;: [[139.76337790489197, 35.678040905014065], [139.76451516151428, 35.68159659061569]]}, &quot;properties&quot;: {&quot;times&quot;: [&quot;2017-06-02T00:30:00&quot;, &quot;2017-06-02T00:40:00&quot;], &quot;style&quot;: {&quot;color&quot;: &quot;#FFFFFF&quot;, &quot;weight&quot;: 5}}}]}, {\n",
              "                    pointToLayer: function (feature, latLng) {\n",
              "                        if (feature.properties.icon == &#x27;marker&#x27;) {\n",
              "                            if(feature.properties.iconstyle){\n",
              "                                return new L.Marker(latLng, {\n",
              "                                    icon: L.icon(feature.properties.iconstyle)});\n",
              "                            }\n",
              "                            //else\n",
              "                            return new L.Marker(latLng);\n",
              "                        }\n",
              "                        if (feature.properties.icon == &#x27;circle&#x27;) {\n",
              "                            if (feature.properties.iconstyle) {\n",
              "                                return new L.circleMarker(latLng, feature.properties.iconstyle)\n",
              "                                };\n",
              "                            //else\n",
              "                            return new L.circleMarker(latLng);\n",
              "                        }\n",
              "                        //else\n",
              "\n",
              "                        return new L.Marker(latLng);\n",
              "                    },\n",
              "                    style: function (feature) {\n",
              "                        return feature.properties.style;\n",
              "                    },\n",
              "                    onEachFeature: function(feature, layer) {\n",
              "                        if (feature.properties.popup) {\n",
              "                        layer.bindPopup(feature.properties.popup);\n",
              "                        }\n",
              "                        if (feature.properties.tooltip) {\n",
              "                        layer.bindTooltip(feature.properties.tooltip);\n",
              "                        }\n",
              "                    }\n",
              "                })\n",
              "\n",
              "            var timestamped_geo_json_a4e42e63684971bf42fae7f25283c92e = L.timeDimension.layer.geoJson(\n",
              "                geoJsonLayer,\n",
              "                {\n",
              "                    updateTimeDimension: true,\n",
              "                    addlastPoint: true,\n",
              "                    duration: undefined,\n",
              "                }\n",
              "            ).addTo(map_137a21c6d6a7182276b92bc5cee8fac1);\n",
              "        \n",
              "&lt;/script&gt;\n",
              "&lt;/html&gt;\" style=\"position:absolute;width:100%;height:100%;left:0;top:0;border:none !important;\" allowfullscreen webkitallowfullscreen mozallowfullscreen></iframe></div></div>"
            ],
            "text/plain": [
              "<folium.folium.Map at 0x7fa743b3c820>"
            ]
          },
          "execution_count": 7,
          "metadata": {},
          "output_type": "execute_result"
        }
      ],
      "source": [
        "import folium\n",
        "from folium.plugins import TimestampedGeoJson\n",
        "\n",
        "m = folium.Map(location=[35.68159659061569, 139.76451516151428], zoom_start=16)\n",
        "\n",
        "\n",
        "lines = [\n",
        "    {\n",
        "        \"coordinates\": [\n",
        "            [139.76451516151428, 35.68159659061569],\n",
        "            [139.75964426994324, 35.682590062684206],\n",
        "        ],\n",
        "        \"dates\": [\"2017-06-02T00:00:00\", \"2017-06-02T00:10:00\"],\n",
        "        \"color\": \"red\",\n",
        "    },\n",
        "    {\n",
        "        \"coordinates\": [\n",
        "            [139.75964426994324, 35.682590062684206],\n",
        "            [139.7575843334198, 35.679505030038506],\n",
        "        ],\n",
        "        \"dates\": [\"2017-06-02T00:10:00\", \"2017-06-02T00:20:00\"],\n",
        "        \"color\": \"blue\",\n",
        "    },\n",
        "    {\n",
        "        \"coordinates\": [\n",
        "            [139.7575843334198, 35.679505030038506],\n",
        "            [139.76337790489197, 35.678040905014065],\n",
        "        ],\n",
        "        \"dates\": [\"2017-06-02T00:20:00\", \"2017-06-02T00:30:00\"],\n",
        "        \"color\": \"green\",\n",
        "        \"weight\": 15,\n",
        "    },\n",
        "    {\n",
        "        \"coordinates\": [\n",
        "            [139.76337790489197, 35.678040905014065],\n",
        "            [139.76451516151428, 35.68159659061569],\n",
        "        ],\n",
        "        \"dates\": [\"2017-06-02T00:30:00\", \"2017-06-02T00:40:00\"],\n",
        "        \"color\": \"#FFFFFF\",\n",
        "    },\n",
        "]\n",
        "\n",
        "features = [\n",
        "    {\n",
        "        \"type\": \"Feature\",\n",
        "        \"geometry\": {\n",
        "            \"type\": \"LineString\",\n",
        "            \"coordinates\": line[\"coordinates\"],\n",
        "        },\n",
        "        \"properties\": {\n",
        "            \"times\": line[\"dates\"],\n",
        "            \"style\": {\n",
        "                \"color\": line[\"color\"],\n",
        "                \"weight\": line[\"weight\"] if \"weight\" in line else 5,\n",
        "            },\n",
        "        },\n",
        "    }\n",
        "    for line in lines\n",
        "]\n",
        "\n",
        "TimestampedGeoJson(\n",
        "    {\n",
        "        \"type\": \"FeatureCollection\",\n",
        "        \"features\": features,\n",
        "    },\n",
        "    period=\"PT1M\",\n",
        "    add_last_point=True,\n",
        ").add_to(m)\n",
        "\n",
        "m"
      ]
    },
    {
      "cell_type": "markdown",
      "metadata": {
        "id": "oYMoKU1FGYtF"
      },
      "source": [
        "### Пример 2\n",
        "\n",
        "[Документация](https://python-visualization.github.io/folium/latest/user_guide/plugins/WmsTimeDimension.html)"
      ]
    },
    {
      "cell_type": "code",
      "execution_count": null,
      "metadata": {
        "colab": {
          "base_uri": "https://localhost:8080/"
        },
        "id": "2-zxKBlIGHIY",
        "outputId": "834d41ff-8127-4a19-d9ab-135fc4a146e1"
      },
      "outputs": [
        {
          "name": "stdout",
          "output_type": "stream",
          "text": [
            "Collecting owslib\n",
            "  Downloading OWSLib-0.29.3-py2.py3-none-any.whl (221 kB)\n",
            "\u001b[?25l     \u001b[90m━━━━━━━━━━━━━━━━━━━━━━━━━━━━━━━━━━━━━━━━\u001b[0m \u001b[32m0.0/221.1 kB\u001b[0m \u001b[31m?\u001b[0m eta \u001b[36m-:--:--\u001b[0m\r\u001b[2K     \u001b[91m━━━━━━━━━━━━━━━━━━━━━━━━━━━━━\u001b[0m\u001b[91m╸\u001b[0m\u001b[90m━━━━━━━━━━\u001b[0m \u001b[32m163.8/221.1 kB\u001b[0m \u001b[31m4.9 MB/s\u001b[0m eta \u001b[36m0:00:01\u001b[0m\r\u001b[2K     \u001b[90m━━━━━━━━━━━━━━━━━━━━━━━━━━━━━━━━━━━━━━━━\u001b[0m \u001b[32m221.1/221.1 kB\u001b[0m \u001b[31m4.6 MB/s\u001b[0m eta \u001b[36m0:00:00\u001b[0m\n",
            "\u001b[?25hRequirement already satisfied: lxml in /usr/local/lib/python3.10/dist-packages (from owslib) (4.9.3)\n",
            "Requirement already satisfied: python-dateutil>=1.5 in /usr/local/lib/python3.10/dist-packages (from owslib) (2.8.2)\n",
            "Requirement already satisfied: pytz in /usr/local/lib/python3.10/dist-packages (from owslib) (2023.3.post1)\n",
            "Requirement already satisfied: pyyaml in /usr/local/lib/python3.10/dist-packages (from owslib) (6.0.1)\n",
            "Requirement already satisfied: requests>=1.0 in /usr/local/lib/python3.10/dist-packages (from owslib) (2.31.0)\n",
            "Requirement already satisfied: six>=1.5 in /usr/local/lib/python3.10/dist-packages (from python-dateutil>=1.5->owslib) (1.16.0)\n",
            "Requirement already satisfied: charset-normalizer<4,>=2 in /usr/local/lib/python3.10/dist-packages (from requests>=1.0->owslib) (3.3.2)\n",
            "Requirement already satisfied: idna<4,>=2.5 in /usr/local/lib/python3.10/dist-packages (from requests>=1.0->owslib) (3.4)\n",
            "Requirement already satisfied: urllib3<3,>=1.21.1 in /usr/local/lib/python3.10/dist-packages (from requests>=1.0->owslib) (2.0.7)\n",
            "Requirement already satisfied: certifi>=2017.4.17 in /usr/local/lib/python3.10/dist-packages (from requests>=1.0->owslib) (2023.7.22)\n",
            "Installing collected packages: owslib\n",
            "Successfully installed owslib-0.29.3\n"
          ]
        }
      ],
      "source": [
        "!pip install owslib"
      ]
    },
    {
      "cell_type": "code",
      "execution_count": null,
      "metadata": {
        "colab": {
          "base_uri": "https://localhost:8080/",
          "height": 1000
        },
        "id": "9nVCexc23kQT",
        "outputId": "63349601-9e90-4cae-e35d-348c2b30e5ab"
      },
      "outputs": [
        {
          "name": "stdout",
          "output_type": "stream",
          "text": [
            "CRW_DHW\n",
            "CRW_DHW_mask\n",
            "CRW_HOTSPOT\n",
            "CRW_HOTSPOT_mask\n",
            "CRW_SSTANOMALY\n",
            "CRW_SSTANOMALY_mask\n",
            "CRW_BAA\n",
            "CRW_BAA_mask\n",
            "CRW_BAA_7D_MAX\n",
            "CRW_BAA_7D_MAX_mask\n",
            "CRW_SEAICE\n",
            "CRW_SST\n"
          ]
        },
        {
          "data": {
            "text/html": [
              "<div style=\"width:100%;\"><div style=\"position:relative;width:100%;height:0;padding-bottom:60%;\"><span style=\"color:#565656\">Make this Notebook Trusted to load map: File -> Trust Notebook</span><iframe srcdoc=\"&lt;!DOCTYPE html&gt;\n",
              "&lt;html&gt;\n",
              "&lt;head&gt;\n",
              "    \n",
              "    &lt;meta http-equiv=&quot;content-type&quot; content=&quot;text/html; charset=UTF-8&quot; /&gt;\n",
              "    \n",
              "        &lt;script&gt;\n",
              "            L_NO_TOUCH = false;\n",
              "            L_DISABLE_3D = false;\n",
              "        &lt;/script&gt;\n",
              "    \n",
              "    &lt;style&gt;html, body {width: 100%;height: 100%;margin: 0;padding: 0;}&lt;/style&gt;\n",
              "    &lt;style&gt;#map {position:absolute;top:0;bottom:0;right:0;left:0;}&lt;/style&gt;\n",
              "    &lt;script src=&quot;https://cdn.jsdelivr.net/npm/leaflet@1.9.3/dist/leaflet.js&quot;&gt;&lt;/script&gt;\n",
              "    &lt;script src=&quot;https://code.jquery.com/jquery-1.12.4.min.js&quot;&gt;&lt;/script&gt;\n",
              "    &lt;script src=&quot;https://cdn.jsdelivr.net/npm/bootstrap@5.2.2/dist/js/bootstrap.bundle.min.js&quot;&gt;&lt;/script&gt;\n",
              "    &lt;script src=&quot;https://cdnjs.cloudflare.com/ajax/libs/Leaflet.awesome-markers/2.0.2/leaflet.awesome-markers.js&quot;&gt;&lt;/script&gt;\n",
              "    &lt;link rel=&quot;stylesheet&quot; href=&quot;https://cdn.jsdelivr.net/npm/leaflet@1.9.3/dist/leaflet.css&quot;/&gt;\n",
              "    &lt;link rel=&quot;stylesheet&quot; href=&quot;https://cdn.jsdelivr.net/npm/bootstrap@5.2.2/dist/css/bootstrap.min.css&quot;/&gt;\n",
              "    &lt;link rel=&quot;stylesheet&quot; href=&quot;https://netdna.bootstrapcdn.com/bootstrap/3.0.0/css/bootstrap.min.css&quot;/&gt;\n",
              "    &lt;link rel=&quot;stylesheet&quot; href=&quot;https://cdn.jsdelivr.net/npm/@fortawesome/fontawesome-free@6.2.0/css/all.min.css&quot;/&gt;\n",
              "    &lt;link rel=&quot;stylesheet&quot; href=&quot;https://cdnjs.cloudflare.com/ajax/libs/Leaflet.awesome-markers/2.0.2/leaflet.awesome-markers.css&quot;/&gt;\n",
              "    &lt;link rel=&quot;stylesheet&quot; href=&quot;https://cdn.jsdelivr.net/gh/python-visualization/folium/folium/templates/leaflet.awesome.rotate.min.css&quot;/&gt;\n",
              "    \n",
              "            &lt;meta name=&quot;viewport&quot; content=&quot;width=device-width,\n",
              "                initial-scale=1.0, maximum-scale=1.0, user-scalable=no&quot; /&gt;\n",
              "            &lt;style&gt;\n",
              "                #map_6e91b4efa29208cef9e59c75e8db625f {\n",
              "                    position: relative;\n",
              "                    width: 100.0%;\n",
              "                    height: 100.0%;\n",
              "                    left: 0.0%;\n",
              "                    top: 0.0%;\n",
              "                }\n",
              "                .leaflet-container { font-size: 1rem; }\n",
              "            &lt;/style&gt;\n",
              "        \n",
              "    &lt;script src=&quot;https://cdnjs.cloudflare.com/ajax/libs/jquery/2.0.0/jquery.min.js&quot;&gt;&lt;/script&gt;\n",
              "    &lt;script src=&quot;https://cdnjs.cloudflare.com/ajax/libs/jqueryui/1.10.2/jquery-ui.min.js&quot;&gt;&lt;/script&gt;\n",
              "    &lt;script src=&quot;https://cdn.jsdelivr.net/npm/iso8601-js-period@0.2.1/iso8601.min.js&quot;&gt;&lt;/script&gt;\n",
              "    &lt;script src=&quot;https://cdn.jsdelivr.net/npm/leaflet-timedimension@1.1.1/dist/leaflet.timedimension.min.js&quot;&gt;&lt;/script&gt;\n",
              "    &lt;link rel=&quot;stylesheet&quot; href=&quot;https://cdnjs.cloudflare.com/ajax/libs/highlight.js/8.4/styles/default.min.css&quot;/&gt;\n",
              "    &lt;link rel=&quot;stylesheet&quot; href=&quot;https://cdn.jsdelivr.net/npm/leaflet-timedimension@1.1.1/dist/leaflet.timedimension.control.css&quot;/&gt;\n",
              "&lt;/head&gt;\n",
              "&lt;body&gt;\n",
              "    \n",
              "    \n",
              "            &lt;div class=&quot;folium-map&quot; id=&quot;map_6e91b4efa29208cef9e59c75e8db625f&quot; &gt;&lt;/div&gt;\n",
              "        \n",
              "&lt;/body&gt;\n",
              "&lt;script&gt;\n",
              "    \n",
              "    \n",
              "            var map_6e91b4efa29208cef9e59c75e8db625f = L.map(\n",
              "                &quot;map_6e91b4efa29208cef9e59c75e8db625f&quot;,\n",
              "                {\n",
              "                    center: [-40.0, -50.0],\n",
              "                    crs: L.CRS.EPSG3857,\n",
              "                    zoom: 5,\n",
              "                    zoomControl: true,\n",
              "                    preferCanvas: false,\n",
              "                }\n",
              "            );\n",
              "\n",
              "            \n",
              "\n",
              "        \n",
              "    \n",
              "            var tile_layer_4b608242fd490edcefc07040c876fb42 = L.tileLayer(\n",
              "                &quot;https://{s}.tile.openstreetmap.org/{z}/{x}/{y}.png&quot;,\n",
              "                {&quot;attribution&quot;: &quot;Data by \\u0026copy; \\u003ca target=\\&quot;_blank\\&quot; href=\\&quot;http://openstreetmap.org\\&quot;\\u003eOpenStreetMap\\u003c/a\\u003e, under \\u003ca target=\\&quot;_blank\\&quot; href=\\&quot;http://www.openstreetmap.org/copyright\\&quot;\\u003eODbL\\u003c/a\\u003e.&quot;, &quot;detectRetina&quot;: false, &quot;maxNativeZoom&quot;: 18, &quot;maxZoom&quot;: 18, &quot;minZoom&quot;: 0, &quot;noWrap&quot;: false, &quot;opacity&quot;: 1, &quot;subdomains&quot;: &quot;abc&quot;, &quot;tms&quot;: false}\n",
              "            ).addTo(map_6e91b4efa29208cef9e59c75e8db625f);\n",
              "        \n",
              "    \n",
              "            var macro_element_64ef2e56e25b4138df0c8e990f45bcd7 = L.tileLayer.wms(\n",
              "                &quot;https://pae-paha.pacioos.hawaii.edu/thredds/wms/dhw_5km?service=WMS&quot;,\n",
              "                {&quot;COLORSCALERANGE&quot;: &quot;1.2,28&quot;, &quot;attribution&quot;: &quot;&quot;, &quot;format&quot;: &quot;image/png&quot;, &quot;layers&quot;: &quot;CRW_SST&quot;, &quot;styles&quot;: &quot;boxfill/sst_36&quot;, &quot;transparent&quot;: true, &quot;version&quot;: &quot;1.1.1&quot;}\n",
              "            ).addTo(map_6e91b4efa29208cef9e59c75e8db625f);\n",
              "        \n",
              "    \n",
              "            map_6e91b4efa29208cef9e59c75e8db625f.timeDimension = L.timeDimension(\n",
              "                {&quot;period&quot;: &quot;PT1H&quot;, &quot;timeInterval&quot;: &quot;1985-04-01T12:00:00.000Z/2023-11-26T12:00:00.000Z&quot;}\n",
              "            );\n",
              "            map_6e91b4efa29208cef9e59c75e8db625f.timeDimensionControl =\n",
              "                L.control.timeDimension(\n",
              "                    {&quot;autoPlay&quot;: false, &quot;playerOptions&quot;: {&quot;loop&quot;: false, &quot;transitionTime&quot;: 200}, &quot;position&quot;: &quot;bottomleft&quot;}\n",
              "                );\n",
              "            map_6e91b4efa29208cef9e59c75e8db625f.addControl(\n",
              "                map_6e91b4efa29208cef9e59c75e8db625f.timeDimensionControl\n",
              "            );\n",
              "\n",
              "            \n",
              "            var macro_element_64ef2e56e25b4138df0c8e990f45bcd7 = L.timeDimension.layer.wms(\n",
              "                macro_element_64ef2e56e25b4138df0c8e990f45bcd7,\n",
              "                {\n",
              "                    updateTimeDimension: false,\n",
              "                    wmsVersion: &quot;1.1.1&quot;,\n",
              "                }\n",
              "            ).addTo(map_6e91b4efa29208cef9e59c75e8db625f);\n",
              "            \n",
              "        \n",
              "    \n",
              "            var layer_control_0c15f7d62659cf635dc433b5c180dbb6 = {\n",
              "                base_layers : {\n",
              "                    &quot;openstreetmap&quot; : tile_layer_4b608242fd490edcefc07040c876fb42,\n",
              "                },\n",
              "                overlays :  {\n",
              "                    &quot;sea_surface_temperature&quot; : macro_element_64ef2e56e25b4138df0c8e990f45bcd7,\n",
              "                },\n",
              "            };\n",
              "            L.control.layers(\n",
              "                layer_control_0c15f7d62659cf635dc433b5c180dbb6.base_layers,\n",
              "                layer_control_0c15f7d62659cf635dc433b5c180dbb6.overlays,\n",
              "                {&quot;autoZIndex&quot;: true, &quot;collapsed&quot;: true, &quot;position&quot;: &quot;topright&quot;}\n",
              "            ).addTo(map_6e91b4efa29208cef9e59c75e8db625f);\n",
              "        \n",
              "&lt;/script&gt;\n",
              "&lt;/html&gt;\" style=\"position:absolute;width:100%;height:100%;left:0;top:0;border:none !important;\" allowfullscreen webkitallowfullscreen mozallowfullscreen></iframe></div></div>"
            ],
            "text/plain": [
              "<folium.folium.Map at 0x7fa743b3e9b0>"
            ]
          },
          "execution_count": 10,
          "metadata": {},
          "output_type": "execute_result"
        }
      ],
      "source": [
        "from owslib.wms import WebMapService\n",
        "from folium.plugins import TimestampedWmsTileLayers\n",
        "\n",
        "\n",
        "url = \"https://pae-paha.pacioos.hawaii.edu/thredds/wms/dhw_5km?service=WMS\"\n",
        "\n",
        "web_map_services = WebMapService(url)\n",
        "\n",
        "print(\"\\n\".join(web_map_services.contents.keys()))\n",
        "\n",
        "\n",
        "layer = \"CRW_SST\"\n",
        "wms = web_map_services.contents[layer]\n",
        "\n",
        "name = wms.title\n",
        "\n",
        "lon = (wms.boundingBox[0] + wms.boundingBox[2]) / 2.0\n",
        "lat = (wms.boundingBox[1] + wms.boundingBox[3]) / 2.0\n",
        "center = lat, lon\n",
        "\n",
        "time_interval = \"{0}/{1}\".format(\n",
        "    wms.timepositions[0].strip(), wms.timepositions[-1].strip()\n",
        ")\n",
        "style = \"boxfill/sst_36\"\n",
        "\n",
        "if style not in wms.styles:\n",
        "    style = None\n",
        "\n",
        "m = folium.Map(location=[-40, -50], zoom_start=5)\n",
        "\n",
        "wms_tile_layer = folium.WmsTileLayer(\n",
        "    url=url,\n",
        "    name=name,\n",
        "    styles=style,\n",
        "    fmt=\"image/png\",\n",
        "    transparent=True,\n",
        "    layers=layer,\n",
        "    overlay=True,\n",
        "    COLORSCALERANGE=\"1.2,28\",\n",
        ").add_to(m)\n",
        "\n",
        "TimestampedWmsTileLayers(\n",
        "    wms_tile_layer,\n",
        "    period=\"PT1H\",\n",
        "    time_interval=time_interval,\n",
        ").add_to(m)\n",
        "\n",
        "folium.LayerControl().add_to(m)\n",
        "\n",
        "m"
      ]
    },
    {
      "cell_type": "markdown",
      "metadata": {
        "id": "IKemV8ADavpT"
      },
      "source": [
        "### Готовый пример проекта с визу"
      ]
    },
    {
      "cell_type": "code",
      "execution_count": 3,
      "metadata": {},
      "outputs": [],
      "source": [
        "import sys"
      ]
    },
    {
      "cell_type": "code",
      "execution_count": 4,
      "metadata": {},
      "outputs": [],
      "source": [
        "from urllib import request, parse\n",
        "from http.cookiejar import CookieJar\n",
        "from base64 import b64encode\n",
        "import getpass\n",
        "import netrc\n",
        "import requests\n",
        "import json\n",
        "import os\n",
        "import pprint\n",
        "from osgeo import gdal\n",
        "import matplotlib.pyplot as plt\n",
        "import matplotlib.image as mpimg\n",
        "import rasterio\n",
        "from rasterio.plot import show\n",
        "import numpy as np\n",
        "import time\n",
        "from netCDF4 import Dataset\n",
        "from owslib.wms import WebMapService\n",
        "from owslib.util import Authentication\n",
        "%matplotlib inline"
      ]
    },
    {
      "cell_type": "code",
      "execution_count": null,
      "metadata": {},
      "outputs": [],
      "source": [
        "local_dir = './outputs/'\n",
        "if not os.path.exists(local_dir):\n",
        "  os.mkdir(local_dir)"
      ]
    }
  ],
  "metadata": {
    "colab": {
      "provenance": []
    },
    "kernelspec": {
      "display_name": "Python 3",
      "name": "python3"
    },
    "language_info": {
      "codemirror_mode": {
        "name": "ipython",
        "version": 3
      },
      "file_extension": ".py",
      "mimetype": "text/x-python",
      "name": "python",
      "nbconvert_exporter": "python",
      "pygments_lexer": "ipython3",
      "version": "3.10.0"
    }
  },
  "nbformat": 4,
  "nbformat_minor": 0
}
